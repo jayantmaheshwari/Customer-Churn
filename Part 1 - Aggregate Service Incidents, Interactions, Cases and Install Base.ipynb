{
 "cells": [
  {
   "cell_type": "code",
   "execution_count": 1,
   "metadata": {},
   "outputs": [],
   "source": [
    "# import relevant libraries\n",
    "import pandas as pd\n",
    "import scipy.stats\n",
    "import numpy as np\n",
    "import datetime as dt\n",
    "import seaborn as sns\n",
    "import matplotlib.pyplot as plt\n",
    "%matplotlib inline\n",
    "\n",
    "pd.set_option('display.max_rows', None)\n",
    "pd.set_option('display.max_columns', None)\n",
    "pd.set_option('float_format', '{:,.2f}'.format)"
   ]
  },
  {
   "cell_type": "markdown",
   "metadata": {},
   "source": [
    "# Importing datasets"
   ]
  },
  {
   "cell_type": "code",
   "execution_count": 2,
   "metadata": {},
   "outputs": [],
   "source": [
    "# Reading data tables\n",
    "cases = pd.read_csv('Cases.csv')\n",
    "interactions = pd.read_csv('Interactions.csv')\n",
    "installbase = pd.read_csv('Install_Base.csv')\n",
    "service = pd.read_csv('Incidents.csv')"
   ]
  },
  {
   "cell_type": "markdown",
   "metadata": {},
   "source": [
    "# Creating aggregated features"
   ]
  },
  {
   "cell_type": "markdown",
   "metadata": {},
   "source": [
    "Before join with revenue table, we created aggregated features for Service Incidents, Cases, Interactions and Install Base table."
   ]
  },
  {
   "cell_type": "markdown",
   "metadata": {},
   "source": [
    "## Service Incidents"
   ]
  },
  {
   "cell_type": "code",
   "execution_count": 3,
   "metadata": {},
   "outputs": [
    {
     "data": {
      "text/html": [
       "<div>\n",
       "<style scoped>\n",
       "    .dataframe tbody tr th:only-of-type {\n",
       "        vertical-align: middle;\n",
       "    }\n",
       "\n",
       "    .dataframe tbody tr th {\n",
       "        vertical-align: top;\n",
       "    }\n",
       "\n",
       "    .dataframe thead th {\n",
       "        text-align: right;\n",
       "    }\n",
       "</style>\n",
       "<table border=\"1\" class=\"dataframe\">\n",
       "  <thead>\n",
       "    <tr style=\"text-align: right;\">\n",
       "      <th></th>\n",
       "      <th>NO_OF_SVC_INCIDENTS</th>\n",
       "      <th>GROUP_NAME</th>\n",
       "      <th>INCIDENT_YEAR</th>\n",
       "      <th>LAST_SERVICE_EVENT_DATE</th>\n",
       "      <th>NO_OF_REPEAT_CALLS_30D</th>\n",
       "      <th>NO_OF_FTF_CALLS_30D</th>\n",
       "      <th>CUSTOMER_SITE_ID</th>\n",
       "      <th>DUNS_NUMBER</th>\n",
       "      <th>SFDC_ID</th>\n",
       "    </tr>\n",
       "  </thead>\n",
       "  <tbody>\n",
       "    <tr>\n",
       "      <th>0</th>\n",
       "      <td>16</td>\n",
       "      <td>WT03</td>\n",
       "      <td>2015</td>\n",
       "      <td>9/8/2015</td>\n",
       "      <td>6</td>\n",
       "      <td>10</td>\n",
       "      <td>183312</td>\n",
       "      <td>792229767</td>\n",
       "      <td>0018000000drGQYAA2</td>\n",
       "    </tr>\n",
       "    <tr>\n",
       "      <th>1</th>\n",
       "      <td>15</td>\n",
       "      <td>WT05</td>\n",
       "      <td>2015</td>\n",
       "      <td>10/31/2015</td>\n",
       "      <td>8</td>\n",
       "      <td>7</td>\n",
       "      <td>519632</td>\n",
       "      <td>78711799</td>\n",
       "      <td>001C0000010IQIfIAO</td>\n",
       "    </tr>\n",
       "    <tr>\n",
       "      <th>2</th>\n",
       "      <td>25</td>\n",
       "      <td>NE04</td>\n",
       "      <td>2015</td>\n",
       "      <td>12/14/2015</td>\n",
       "      <td>9</td>\n",
       "      <td>16</td>\n",
       "      <td>67170</td>\n",
       "      <td>2147445</td>\n",
       "      <td>0018000000drI9QAAU</td>\n",
       "    </tr>\n",
       "    <tr>\n",
       "      <th>3</th>\n",
       "      <td>17</td>\n",
       "      <td>WT07</td>\n",
       "      <td>2015</td>\n",
       "      <td>10/30/2015</td>\n",
       "      <td>6</td>\n",
       "      <td>11</td>\n",
       "      <td>62480</td>\n",
       "      <td>152543450</td>\n",
       "      <td>0018000000WFcRGAA1</td>\n",
       "    </tr>\n",
       "    <tr>\n",
       "      <th>4</th>\n",
       "      <td>100</td>\n",
       "      <td>WT03</td>\n",
       "      <td>2015</td>\n",
       "      <td>12/29/2015</td>\n",
       "      <td>35</td>\n",
       "      <td>65</td>\n",
       "      <td>175434</td>\n",
       "      <td>55634273</td>\n",
       "      <td>0018000000drGBmAAM</td>\n",
       "    </tr>\n",
       "  </tbody>\n",
       "</table>\n",
       "</div>"
      ],
      "text/plain": [
       "   NO_OF_SVC_INCIDENTS GROUP_NAME  INCIDENT_YEAR LAST_SERVICE_EVENT_DATE  \\\n",
       "0                   16       WT03           2015                9/8/2015   \n",
       "1                   15       WT05           2015              10/31/2015   \n",
       "2                   25       NE04           2015              12/14/2015   \n",
       "3                   17       WT07           2015              10/30/2015   \n",
       "4                  100       WT03           2015              12/29/2015   \n",
       "\n",
       "   NO_OF_REPEAT_CALLS_30D  NO_OF_FTF_CALLS_30D  CUSTOMER_SITE_ID  DUNS_NUMBER  \\\n",
       "0                       6                   10            183312    792229767   \n",
       "1                       8                    7            519632     78711799   \n",
       "2                       9                   16             67170      2147445   \n",
       "3                       6                   11             62480    152543450   \n",
       "4                      35                   65            175434     55634273   \n",
       "\n",
       "              SFDC_ID  \n",
       "0  0018000000drGQYAA2  \n",
       "1  001C0000010IQIfIAO  \n",
       "2  0018000000drI9QAAU  \n",
       "3  0018000000WFcRGAA1  \n",
       "4  0018000000drGBmAAM  "
      ]
     },
     "execution_count": 3,
     "metadata": {},
     "output_type": "execute_result"
    }
   ],
   "source": [
    "service.head()"
   ]
  },
  {
   "cell_type": "code",
   "execution_count": 4,
   "metadata": {},
   "outputs": [
    {
     "data": {
      "text/plain": [
       "(42774, 9)"
      ]
     },
     "execution_count": 4,
     "metadata": {},
     "output_type": "execute_result"
    }
   ],
   "source": [
    "service.shape"
   ]
  },
  {
   "cell_type": "markdown",
   "metadata": {},
   "source": [
    "### Preprocessing before aggregating"
   ]
  },
  {
   "cell_type": "code",
   "execution_count": 5,
   "metadata": {},
   "outputs": [
    {
     "data": {
      "text/plain": [
       "(42774, 9)"
      ]
     },
     "execution_count": 5,
     "metadata": {},
     "output_type": "execute_result"
    }
   ],
   "source": [
    "# check duplicates\n",
    "service.drop_duplicates(inplace = True)\n",
    "service.shape"
   ]
  },
  {
   "cell_type": "code",
   "execution_count": 6,
   "metadata": {},
   "outputs": [
    {
     "name": "stdout",
     "output_type": "stream",
     "text": [
      "<class 'pandas.core.frame.DataFrame'>\n",
      "Int64Index: 42774 entries, 0 to 42773\n",
      "Data columns (total 9 columns):\n",
      " #   Column                   Non-Null Count  Dtype \n",
      "---  ------                   --------------  ----- \n",
      " 0   NO_OF_SVC_INCIDENTS      42774 non-null  int64 \n",
      " 1   GROUP_NAME               42774 non-null  object\n",
      " 2   INCIDENT_YEAR            42774 non-null  int64 \n",
      " 3   LAST_SERVICE_EVENT_DATE  42774 non-null  object\n",
      " 4   NO_OF_REPEAT_CALLS_30D   42774 non-null  int64 \n",
      " 5   NO_OF_FTF_CALLS_30D      42774 non-null  int64 \n",
      " 6   CUSTOMER_SITE_ID         42774 non-null  int64 \n",
      " 7   DUNS_NUMBER              42774 non-null  int64 \n",
      " 8   SFDC_ID                  42774 non-null  object\n",
      "dtypes: int64(6), object(3)\n",
      "memory usage: 3.3+ MB\n"
     ]
    }
   ],
   "source": [
    "# check column names and null values\n",
    "service.info()"
   ]
  },
  {
   "cell_type": "code",
   "execution_count": 7,
   "metadata": {},
   "outputs": [],
   "source": [
    "# drop unnecessary columns\n",
    "service.drop(['DUNS_NUMBER','SFDC_ID','GROUP_NAME'],axis = 1, inplace = True)"
   ]
  },
  {
   "cell_type": "code",
   "execution_count": 8,
   "metadata": {},
   "outputs": [
    {
     "data": {
      "text/html": [
       "<div>\n",
       "<style scoped>\n",
       "    .dataframe tbody tr th:only-of-type {\n",
       "        vertical-align: middle;\n",
       "    }\n",
       "\n",
       "    .dataframe tbody tr th {\n",
       "        vertical-align: top;\n",
       "    }\n",
       "\n",
       "    .dataframe thead th {\n",
       "        text-align: right;\n",
       "    }\n",
       "</style>\n",
       "<table border=\"1\" class=\"dataframe\">\n",
       "  <thead>\n",
       "    <tr style=\"text-align: right;\">\n",
       "      <th></th>\n",
       "      <th>NO_OF_SVC_INCIDENTS</th>\n",
       "      <th>INCIDENT_YEAR</th>\n",
       "      <th>LAST_SERVICE_EVENT_DATE</th>\n",
       "      <th>NO_OF_REPEAT_CALLS_30D</th>\n",
       "      <th>NO_OF_FTF_CALLS_30D</th>\n",
       "      <th>CUSTOMER_SITE_ID</th>\n",
       "    </tr>\n",
       "  </thead>\n",
       "  <tbody>\n",
       "    <tr>\n",
       "      <th>0</th>\n",
       "      <td>16</td>\n",
       "      <td>2015</td>\n",
       "      <td>9/8/2015</td>\n",
       "      <td>6</td>\n",
       "      <td>10</td>\n",
       "      <td>183312</td>\n",
       "    </tr>\n",
       "    <tr>\n",
       "      <th>1</th>\n",
       "      <td>15</td>\n",
       "      <td>2015</td>\n",
       "      <td>10/31/2015</td>\n",
       "      <td>8</td>\n",
       "      <td>7</td>\n",
       "      <td>519632</td>\n",
       "    </tr>\n",
       "    <tr>\n",
       "      <th>2</th>\n",
       "      <td>25</td>\n",
       "      <td>2015</td>\n",
       "      <td>12/14/2015</td>\n",
       "      <td>9</td>\n",
       "      <td>16</td>\n",
       "      <td>67170</td>\n",
       "    </tr>\n",
       "    <tr>\n",
       "      <th>3</th>\n",
       "      <td>17</td>\n",
       "      <td>2015</td>\n",
       "      <td>10/30/2015</td>\n",
       "      <td>6</td>\n",
       "      <td>11</td>\n",
       "      <td>62480</td>\n",
       "    </tr>\n",
       "    <tr>\n",
       "      <th>4</th>\n",
       "      <td>100</td>\n",
       "      <td>2015</td>\n",
       "      <td>12/29/2015</td>\n",
       "      <td>35</td>\n",
       "      <td>65</td>\n",
       "      <td>175434</td>\n",
       "    </tr>\n",
       "  </tbody>\n",
       "</table>\n",
       "</div>"
      ],
      "text/plain": [
       "   NO_OF_SVC_INCIDENTS  INCIDENT_YEAR LAST_SERVICE_EVENT_DATE  \\\n",
       "0                   16           2015                9/8/2015   \n",
       "1                   15           2015              10/31/2015   \n",
       "2                   25           2015              12/14/2015   \n",
       "3                   17           2015              10/30/2015   \n",
       "4                  100           2015              12/29/2015   \n",
       "\n",
       "   NO_OF_REPEAT_CALLS_30D  NO_OF_FTF_CALLS_30D  CUSTOMER_SITE_ID  \n",
       "0                       6                   10            183312  \n",
       "1                       8                    7            519632  \n",
       "2                       9                   16             67170  \n",
       "3                       6                   11             62480  \n",
       "4                      35                   65            175434  "
      ]
     },
     "execution_count": 8,
     "metadata": {},
     "output_type": "execute_result"
    }
   ],
   "source": [
    "service.head()"
   ]
  },
  {
   "cell_type": "markdown",
   "metadata": {},
   "source": [
    "### Aggregating"
   ]
  },
  {
   "cell_type": "code",
   "execution_count": 9,
   "metadata": {},
   "outputs": [
    {
     "data": {
      "text/html": [
       "<div>\n",
       "<style scoped>\n",
       "    .dataframe tbody tr th:only-of-type {\n",
       "        vertical-align: middle;\n",
       "    }\n",
       "\n",
       "    .dataframe tbody tr th {\n",
       "        vertical-align: top;\n",
       "    }\n",
       "\n",
       "    .dataframe thead th {\n",
       "        text-align: right;\n",
       "    }\n",
       "</style>\n",
       "<table border=\"1\" class=\"dataframe\">\n",
       "  <thead>\n",
       "    <tr style=\"text-align: right;\">\n",
       "      <th></th>\n",
       "      <th>CUSTOMER_SITE_ID</th>\n",
       "      <th>NO_OF_SVC_INCIDENTS</th>\n",
       "      <th>NO_OF_REPEAT_CALLS_30D</th>\n",
       "      <th>NO_OF_FTF_CALLS_30D</th>\n",
       "    </tr>\n",
       "  </thead>\n",
       "  <tbody>\n",
       "    <tr>\n",
       "      <th>0</th>\n",
       "      <td>24</td>\n",
       "      <td>13</td>\n",
       "      <td>7</td>\n",
       "      <td>6</td>\n",
       "    </tr>\n",
       "    <tr>\n",
       "      <th>1</th>\n",
       "      <td>36</td>\n",
       "      <td>111</td>\n",
       "      <td>38</td>\n",
       "      <td>73</td>\n",
       "    </tr>\n",
       "    <tr>\n",
       "      <th>2</th>\n",
       "      <td>85</td>\n",
       "      <td>1</td>\n",
       "      <td>0</td>\n",
       "      <td>1</td>\n",
       "    </tr>\n",
       "    <tr>\n",
       "      <th>3</th>\n",
       "      <td>86</td>\n",
       "      <td>11</td>\n",
       "      <td>1</td>\n",
       "      <td>10</td>\n",
       "    </tr>\n",
       "    <tr>\n",
       "      <th>4</th>\n",
       "      <td>90</td>\n",
       "      <td>57</td>\n",
       "      <td>13</td>\n",
       "      <td>44</td>\n",
       "    </tr>\n",
       "  </tbody>\n",
       "</table>\n",
       "</div>"
      ],
      "text/plain": [
       "   CUSTOMER_SITE_ID  NO_OF_SVC_INCIDENTS  NO_OF_REPEAT_CALLS_30D  \\\n",
       "0                24                   13                       7   \n",
       "1                36                  111                      38   \n",
       "2                85                    1                       0   \n",
       "3                86                   11                       1   \n",
       "4                90                   57                      13   \n",
       "\n",
       "   NO_OF_FTF_CALLS_30D  \n",
       "0                    6  \n",
       "1                   73  \n",
       "2                    1  \n",
       "3                   10  \n",
       "4                   44  "
      ]
     },
     "execution_count": 9,
     "metadata": {},
     "output_type": "execute_result"
    }
   ],
   "source": [
    "# aggregate NO_OF_SVC_INCIDENTS, NO_OF_REPEAT_CALLS_30D, NO_OF_FTF_CALLS_30D, LAST_SERVICE_EVENT_DATE\n",
    "service = service.groupby('CUSTOMER_SITE_ID').agg({'NO_OF_SVC_INCIDENTS': 'sum',\n",
    "                                                   'NO_OF_REPEAT_CALLS_30D': 'sum',\n",
    "                                                   'NO_OF_FTF_CALLS_30D': 'sum'}).reset_index()\n",
    "service.head()"
   ]
  },
  {
   "cell_type": "code",
   "execution_count": 10,
   "metadata": {},
   "outputs": [
    {
     "data": {
      "text/plain": [
       "(13581, 4)"
      ]
     },
     "execution_count": 10,
     "metadata": {},
     "output_type": "execute_result"
    }
   ],
   "source": [
    "service.shape"
   ]
  },
  {
   "cell_type": "code",
   "execution_count": 11,
   "metadata": {},
   "outputs": [],
   "source": [
    "# rename columns\n",
    "service = service.rename(columns = {\n",
    "                                    \"NO_OF_SVC_INCIDENTS\": \"Total_SVC_Incidents\",\n",
    "                                    \"NO_OF_REPEAT_CALLS_30D\": \"Total_Repeat_Calls\",\n",
    "                                    \"NO_OF_FTF_CALLS_30D\": \"Total_FTF_Calls\"})"
   ]
  },
  {
   "cell_type": "code",
   "execution_count": 12,
   "metadata": {},
   "outputs": [
    {
     "data": {
      "text/html": [
       "<div>\n",
       "<style scoped>\n",
       "    .dataframe tbody tr th:only-of-type {\n",
       "        vertical-align: middle;\n",
       "    }\n",
       "\n",
       "    .dataframe tbody tr th {\n",
       "        vertical-align: top;\n",
       "    }\n",
       "\n",
       "    .dataframe thead th {\n",
       "        text-align: right;\n",
       "    }\n",
       "</style>\n",
       "<table border=\"1\" class=\"dataframe\">\n",
       "  <thead>\n",
       "    <tr style=\"text-align: right;\">\n",
       "      <th></th>\n",
       "      <th>CUSTOMER_SITE_ID</th>\n",
       "      <th>Total_SVC_Incidents</th>\n",
       "      <th>Total_Repeat_Calls</th>\n",
       "      <th>Total_FTF_Calls</th>\n",
       "    </tr>\n",
       "  </thead>\n",
       "  <tbody>\n",
       "    <tr>\n",
       "      <th>0</th>\n",
       "      <td>24</td>\n",
       "      <td>13</td>\n",
       "      <td>7</td>\n",
       "      <td>6</td>\n",
       "    </tr>\n",
       "    <tr>\n",
       "      <th>1</th>\n",
       "      <td>36</td>\n",
       "      <td>111</td>\n",
       "      <td>38</td>\n",
       "      <td>73</td>\n",
       "    </tr>\n",
       "    <tr>\n",
       "      <th>2</th>\n",
       "      <td>85</td>\n",
       "      <td>1</td>\n",
       "      <td>0</td>\n",
       "      <td>1</td>\n",
       "    </tr>\n",
       "    <tr>\n",
       "      <th>3</th>\n",
       "      <td>86</td>\n",
       "      <td>11</td>\n",
       "      <td>1</td>\n",
       "      <td>10</td>\n",
       "    </tr>\n",
       "    <tr>\n",
       "      <th>4</th>\n",
       "      <td>90</td>\n",
       "      <td>57</td>\n",
       "      <td>13</td>\n",
       "      <td>44</td>\n",
       "    </tr>\n",
       "  </tbody>\n",
       "</table>\n",
       "</div>"
      ],
      "text/plain": [
       "   CUSTOMER_SITE_ID  Total_SVC_Incidents  Total_Repeat_Calls  Total_FTF_Calls\n",
       "0                24                   13                   7                6\n",
       "1                36                  111                  38               73\n",
       "2                85                    1                   0                1\n",
       "3                86                   11                   1               10\n",
       "4                90                   57                  13               44"
      ]
     },
     "execution_count": 12,
     "metadata": {},
     "output_type": "execute_result"
    }
   ],
   "source": [
    "service.head()"
   ]
  },
  {
   "cell_type": "code",
   "execution_count": 13,
   "metadata": {},
   "outputs": [
    {
     "data": {
      "text/plain": [
       "1.0"
      ]
     },
     "execution_count": 13,
     "metadata": {},
     "output_type": "execute_result"
    }
   ],
   "source": [
    "# check all customer sites are unique\n",
    "len(service['CUSTOMER_SITE_ID'])/len(service['CUSTOMER_SITE_ID'].unique())"
   ]
  },
  {
   "cell_type": "markdown",
   "metadata": {},
   "source": [
    "## Interactions"
   ]
  },
  {
   "cell_type": "code",
   "execution_count": 14,
   "metadata": {},
   "outputs": [
    {
     "data": {
      "text/html": [
       "<div>\n",
       "<style scoped>\n",
       "    .dataframe tbody tr th:only-of-type {\n",
       "        vertical-align: middle;\n",
       "    }\n",
       "\n",
       "    .dataframe tbody tr th {\n",
       "        vertical-align: top;\n",
       "    }\n",
       "\n",
       "    .dataframe thead th {\n",
       "        text-align: right;\n",
       "    }\n",
       "</style>\n",
       "<table border=\"1\" class=\"dataframe\">\n",
       "  <thead>\n",
       "    <tr style=\"text-align: right;\">\n",
       "      <th></th>\n",
       "      <th>SFDC_ID</th>\n",
       "      <th>Task_Subtype</th>\n",
       "      <th>Created_Date</th>\n",
       "      <th>Interaction_Amount</th>\n",
       "      <th>Type</th>\n",
       "      <th>Assigned</th>\n",
       "      <th>Visit</th>\n",
       "      <th>Task</th>\n",
       "      <th>Last_Modified_Date</th>\n",
       "      <th>CUSTOMER_SITE_ID</th>\n",
       "    </tr>\n",
       "  </thead>\n",
       "  <tbody>\n",
       "    <tr>\n",
       "      <th>0</th>\n",
       "      <td>0018000000drGW3AAM</td>\n",
       "      <td>Call</td>\n",
       "      <td>2019-04-16 19:36:23.0000000</td>\n",
       "      <td>nan</td>\n",
       "      <td>Call</td>\n",
       "      <td>Stephen Czekanski</td>\n",
       "      <td>1</td>\n",
       "      <td>1</td>\n",
       "      <td>2019-04-16 19:47:43.0000000</td>\n",
       "      <td>196,773.00</td>\n",
       "    </tr>\n",
       "    <tr>\n",
       "      <th>1</th>\n",
       "      <td>0018000000drGW3AAM</td>\n",
       "      <td>Call</td>\n",
       "      <td>2019-06-11 20:58:44.0000000</td>\n",
       "      <td>nan</td>\n",
       "      <td>Call</td>\n",
       "      <td>April Clark</td>\n",
       "      <td>1</td>\n",
       "      <td>1</td>\n",
       "      <td>2019-06-11 20:58:44.0000000</td>\n",
       "      <td>196,773.00</td>\n",
       "    </tr>\n",
       "    <tr>\n",
       "      <th>2</th>\n",
       "      <td>0018000000drGW3AAM</td>\n",
       "      <td>Call</td>\n",
       "      <td>2019-06-12 14:35:19.0000000</td>\n",
       "      <td>nan</td>\n",
       "      <td>Call</td>\n",
       "      <td>Stephen Czekanski</td>\n",
       "      <td>1</td>\n",
       "      <td>1</td>\n",
       "      <td>2019-06-12 14:47:03.0000000</td>\n",
       "      <td>196,773.00</td>\n",
       "    </tr>\n",
       "    <tr>\n",
       "      <th>3</th>\n",
       "      <td>0018000000drGW3AAM</td>\n",
       "      <td>Call</td>\n",
       "      <td>2019-06-12 14:25:22.0000000</td>\n",
       "      <td>nan</td>\n",
       "      <td>Call</td>\n",
       "      <td>Stephen Czekanski</td>\n",
       "      <td>1</td>\n",
       "      <td>1</td>\n",
       "      <td>2019-06-12 14:31:19.0000000</td>\n",
       "      <td>196,773.00</td>\n",
       "    </tr>\n",
       "    <tr>\n",
       "      <th>4</th>\n",
       "      <td>0018000000drGW3AAM</td>\n",
       "      <td>Call</td>\n",
       "      <td>2019-07-18 15:43:21.0000000</td>\n",
       "      <td>nan</td>\n",
       "      <td>Call</td>\n",
       "      <td>Stephen Czekanski</td>\n",
       "      <td>1</td>\n",
       "      <td>1</td>\n",
       "      <td>2019-07-18 15:48:19.0000000</td>\n",
       "      <td>196,773.00</td>\n",
       "    </tr>\n",
       "  </tbody>\n",
       "</table>\n",
       "</div>"
      ],
      "text/plain": [
       "              SFDC_ID Task_Subtype                 Created_Date  \\\n",
       "0  0018000000drGW3AAM         Call  2019-04-16 19:36:23.0000000   \n",
       "1  0018000000drGW3AAM         Call  2019-06-11 20:58:44.0000000   \n",
       "2  0018000000drGW3AAM         Call  2019-06-12 14:35:19.0000000   \n",
       "3  0018000000drGW3AAM         Call  2019-06-12 14:25:22.0000000   \n",
       "4  0018000000drGW3AAM         Call  2019-07-18 15:43:21.0000000   \n",
       "\n",
       "   Interaction_Amount  Type           Assigned  Visit  Task  \\\n",
       "0                 nan  Call  Stephen Czekanski      1     1   \n",
       "1                 nan  Call        April Clark      1     1   \n",
       "2                 nan  Call  Stephen Czekanski      1     1   \n",
       "3                 nan  Call  Stephen Czekanski      1     1   \n",
       "4                 nan  Call  Stephen Czekanski      1     1   \n",
       "\n",
       "            Last_Modified_Date  CUSTOMER_SITE_ID  \n",
       "0  2019-04-16 19:47:43.0000000        196,773.00  \n",
       "1  2019-06-11 20:58:44.0000000        196,773.00  \n",
       "2  2019-06-12 14:47:03.0000000        196,773.00  \n",
       "3  2019-06-12 14:31:19.0000000        196,773.00  \n",
       "4  2019-07-18 15:48:19.0000000        196,773.00  "
      ]
     },
     "execution_count": 14,
     "metadata": {},
     "output_type": "execute_result"
    }
   ],
   "source": [
    "interactions.head()"
   ]
  },
  {
   "cell_type": "code",
   "execution_count": 15,
   "metadata": {},
   "outputs": [
    {
     "data": {
      "text/plain": [
       "(905864, 10)"
      ]
     },
     "execution_count": 15,
     "metadata": {},
     "output_type": "execute_result"
    }
   ],
   "source": [
    "interactions.shape"
   ]
  },
  {
   "cell_type": "markdown",
   "metadata": {},
   "source": [
    "### Preprocessing before aggregating"
   ]
  },
  {
   "cell_type": "code",
   "execution_count": 16,
   "metadata": {},
   "outputs": [
    {
     "data": {
      "text/plain": [
       "(894839, 10)"
      ]
     },
     "execution_count": 16,
     "metadata": {},
     "output_type": "execute_result"
    }
   ],
   "source": [
    "# check duplicates\n",
    "interactions.drop_duplicates(inplace = True)\n",
    "interactions.shape"
   ]
  },
  {
   "cell_type": "code",
   "execution_count": 17,
   "metadata": {},
   "outputs": [
    {
     "name": "stdout",
     "output_type": "stream",
     "text": [
      "<class 'pandas.core.frame.DataFrame'>\n",
      "Int64Index: 894839 entries, 0 to 905863\n",
      "Data columns (total 10 columns):\n",
      " #   Column              Non-Null Count   Dtype  \n",
      "---  ------              --------------   -----  \n",
      " 0   SFDC_ID             894839 non-null  object \n",
      " 1   Task_Subtype        894839 non-null  object \n",
      " 2   Created_Date        894839 non-null  object \n",
      " 3   Interaction_Amount  0 non-null       float64\n",
      " 4   Type                792292 non-null  object \n",
      " 5   Assigned            894839 non-null  object \n",
      " 6   Visit               894839 non-null  int64  \n",
      " 7   Task                894839 non-null  int64  \n",
      " 8   Last_Modified_Date  894839 non-null  object \n",
      " 9   CUSTOMER_SITE_ID    652467 non-null  float64\n",
      "dtypes: float64(2), int64(2), object(6)\n",
      "memory usage: 75.1+ MB\n"
     ]
    }
   ],
   "source": [
    "# check column names and null values\n",
    "interactions.info()"
   ]
  },
  {
   "cell_type": "code",
   "execution_count": 18,
   "metadata": {},
   "outputs": [],
   "source": [
    "# drop unnecessary columns\n",
    "interactions.drop('Interaction_Amount',axis = 1,inplace = True)"
   ]
  },
  {
   "cell_type": "code",
   "execution_count": 19,
   "metadata": {},
   "outputs": [],
   "source": [
    "# fill in null values in Type\n",
    "interactions['Type'] =  interactions['Type'].fillna('Other')"
   ]
  },
  {
   "cell_type": "code",
   "execution_count": 20,
   "metadata": {},
   "outputs": [],
   "source": [
    "# drop rows with null values\n",
    "interactions = interactions.dropna()"
   ]
  },
  {
   "cell_type": "code",
   "execution_count": 21,
   "metadata": {},
   "outputs": [
    {
     "name": "stdout",
     "output_type": "stream",
     "text": [
      "<class 'pandas.core.frame.DataFrame'>\n",
      "Int64Index: 652467 entries, 0 to 905863\n",
      "Data columns (total 9 columns):\n",
      " #   Column              Non-Null Count   Dtype  \n",
      "---  ------              --------------   -----  \n",
      " 0   SFDC_ID             652467 non-null  object \n",
      " 1   Task_Subtype        652467 non-null  object \n",
      " 2   Created_Date        652467 non-null  object \n",
      " 3   Type                652467 non-null  object \n",
      " 4   Assigned            652467 non-null  object \n",
      " 5   Visit               652467 non-null  int64  \n",
      " 6   Task                652467 non-null  int64  \n",
      " 7   Last_Modified_Date  652467 non-null  object \n",
      " 8   CUSTOMER_SITE_ID    652467 non-null  float64\n",
      "dtypes: float64(1), int64(2), object(6)\n",
      "memory usage: 49.8+ MB\n"
     ]
    }
   ],
   "source": [
    "interactions.info()"
   ]
  },
  {
   "cell_type": "code",
   "execution_count": 22,
   "metadata": {},
   "outputs": [
    {
     "data": {
      "text/html": [
       "<div>\n",
       "<style scoped>\n",
       "    .dataframe tbody tr th:only-of-type {\n",
       "        vertical-align: middle;\n",
       "    }\n",
       "\n",
       "    .dataframe tbody tr th {\n",
       "        vertical-align: top;\n",
       "    }\n",
       "\n",
       "    .dataframe thead th {\n",
       "        text-align: right;\n",
       "    }\n",
       "</style>\n",
       "<table border=\"1\" class=\"dataframe\">\n",
       "  <thead>\n",
       "    <tr style=\"text-align: right;\">\n",
       "      <th></th>\n",
       "      <th>SFDC_ID</th>\n",
       "      <th>Task_Subtype</th>\n",
       "      <th>Created_Date</th>\n",
       "      <th>Type</th>\n",
       "      <th>Assigned</th>\n",
       "      <th>Visit</th>\n",
       "      <th>Task</th>\n",
       "      <th>Last_Modified_Date</th>\n",
       "      <th>CUSTOMER_SITE_ID</th>\n",
       "    </tr>\n",
       "  </thead>\n",
       "  <tbody>\n",
       "    <tr>\n",
       "      <th>0</th>\n",
       "      <td>0018000000drGW3AAM</td>\n",
       "      <td>Call</td>\n",
       "      <td>2019-04-16 19:36:23.0000000</td>\n",
       "      <td>Call</td>\n",
       "      <td>Stephen Czekanski</td>\n",
       "      <td>1</td>\n",
       "      <td>1</td>\n",
       "      <td>2019-04-16 19:47:43.0000000</td>\n",
       "      <td>196,773.00</td>\n",
       "    </tr>\n",
       "    <tr>\n",
       "      <th>1</th>\n",
       "      <td>0018000000drGW3AAM</td>\n",
       "      <td>Call</td>\n",
       "      <td>2019-06-11 20:58:44.0000000</td>\n",
       "      <td>Call</td>\n",
       "      <td>April Clark</td>\n",
       "      <td>1</td>\n",
       "      <td>1</td>\n",
       "      <td>2019-06-11 20:58:44.0000000</td>\n",
       "      <td>196,773.00</td>\n",
       "    </tr>\n",
       "    <tr>\n",
       "      <th>2</th>\n",
       "      <td>0018000000drGW3AAM</td>\n",
       "      <td>Call</td>\n",
       "      <td>2019-06-12 14:35:19.0000000</td>\n",
       "      <td>Call</td>\n",
       "      <td>Stephen Czekanski</td>\n",
       "      <td>1</td>\n",
       "      <td>1</td>\n",
       "      <td>2019-06-12 14:47:03.0000000</td>\n",
       "      <td>196,773.00</td>\n",
       "    </tr>\n",
       "    <tr>\n",
       "      <th>3</th>\n",
       "      <td>0018000000drGW3AAM</td>\n",
       "      <td>Call</td>\n",
       "      <td>2019-06-12 14:25:22.0000000</td>\n",
       "      <td>Call</td>\n",
       "      <td>Stephen Czekanski</td>\n",
       "      <td>1</td>\n",
       "      <td>1</td>\n",
       "      <td>2019-06-12 14:31:19.0000000</td>\n",
       "      <td>196,773.00</td>\n",
       "    </tr>\n",
       "    <tr>\n",
       "      <th>4</th>\n",
       "      <td>0018000000drGW3AAM</td>\n",
       "      <td>Call</td>\n",
       "      <td>2019-07-18 15:43:21.0000000</td>\n",
       "      <td>Call</td>\n",
       "      <td>Stephen Czekanski</td>\n",
       "      <td>1</td>\n",
       "      <td>1</td>\n",
       "      <td>2019-07-18 15:48:19.0000000</td>\n",
       "      <td>196,773.00</td>\n",
       "    </tr>\n",
       "  </tbody>\n",
       "</table>\n",
       "</div>"
      ],
      "text/plain": [
       "              SFDC_ID Task_Subtype                 Created_Date  Type  \\\n",
       "0  0018000000drGW3AAM         Call  2019-04-16 19:36:23.0000000  Call   \n",
       "1  0018000000drGW3AAM         Call  2019-06-11 20:58:44.0000000  Call   \n",
       "2  0018000000drGW3AAM         Call  2019-06-12 14:35:19.0000000  Call   \n",
       "3  0018000000drGW3AAM         Call  2019-06-12 14:25:22.0000000  Call   \n",
       "4  0018000000drGW3AAM         Call  2019-07-18 15:43:21.0000000  Call   \n",
       "\n",
       "            Assigned  Visit  Task           Last_Modified_Date  \\\n",
       "0  Stephen Czekanski      1     1  2019-04-16 19:47:43.0000000   \n",
       "1        April Clark      1     1  2019-06-11 20:58:44.0000000   \n",
       "2  Stephen Czekanski      1     1  2019-06-12 14:47:03.0000000   \n",
       "3  Stephen Czekanski      1     1  2019-06-12 14:31:19.0000000   \n",
       "4  Stephen Czekanski      1     1  2019-07-18 15:48:19.0000000   \n",
       "\n",
       "   CUSTOMER_SITE_ID  \n",
       "0        196,773.00  \n",
       "1        196,773.00  \n",
       "2        196,773.00  \n",
       "3        196,773.00  \n",
       "4        196,773.00  "
      ]
     },
     "execution_count": 22,
     "metadata": {},
     "output_type": "execute_result"
    }
   ],
   "source": [
    "interactions.head()"
   ]
  },
  {
   "cell_type": "code",
   "execution_count": 23,
   "metadata": {},
   "outputs": [],
   "source": [
    "# drop unnecessary columns\n",
    "interactions.drop(['Task_Subtype','Last_Modified_Date','SFDC_ID','Assigned','Created_Date'],axis = 1, inplace = True)"
   ]
  },
  {
   "cell_type": "code",
   "execution_count": 24,
   "metadata": {},
   "outputs": [
    {
     "data": {
      "text/html": [
       "<div>\n",
       "<style scoped>\n",
       "    .dataframe tbody tr th:only-of-type {\n",
       "        vertical-align: middle;\n",
       "    }\n",
       "\n",
       "    .dataframe tbody tr th {\n",
       "        vertical-align: top;\n",
       "    }\n",
       "\n",
       "    .dataframe thead th {\n",
       "        text-align: right;\n",
       "    }\n",
       "</style>\n",
       "<table border=\"1\" class=\"dataframe\">\n",
       "  <thead>\n",
       "    <tr style=\"text-align: right;\">\n",
       "      <th></th>\n",
       "      <th>Type</th>\n",
       "      <th>Visit</th>\n",
       "      <th>Task</th>\n",
       "      <th>CUSTOMER_SITE_ID</th>\n",
       "    </tr>\n",
       "  </thead>\n",
       "  <tbody>\n",
       "    <tr>\n",
       "      <th>0</th>\n",
       "      <td>Call</td>\n",
       "      <td>1</td>\n",
       "      <td>1</td>\n",
       "      <td>196,773.00</td>\n",
       "    </tr>\n",
       "    <tr>\n",
       "      <th>1</th>\n",
       "      <td>Call</td>\n",
       "      <td>1</td>\n",
       "      <td>1</td>\n",
       "      <td>196,773.00</td>\n",
       "    </tr>\n",
       "    <tr>\n",
       "      <th>2</th>\n",
       "      <td>Call</td>\n",
       "      <td>1</td>\n",
       "      <td>1</td>\n",
       "      <td>196,773.00</td>\n",
       "    </tr>\n",
       "    <tr>\n",
       "      <th>3</th>\n",
       "      <td>Call</td>\n",
       "      <td>1</td>\n",
       "      <td>1</td>\n",
       "      <td>196,773.00</td>\n",
       "    </tr>\n",
       "    <tr>\n",
       "      <th>4</th>\n",
       "      <td>Call</td>\n",
       "      <td>1</td>\n",
       "      <td>1</td>\n",
       "      <td>196,773.00</td>\n",
       "    </tr>\n",
       "  </tbody>\n",
       "</table>\n",
       "</div>"
      ],
      "text/plain": [
       "   Type  Visit  Task  CUSTOMER_SITE_ID\n",
       "0  Call      1     1        196,773.00\n",
       "1  Call      1     1        196,773.00\n",
       "2  Call      1     1        196,773.00\n",
       "3  Call      1     1        196,773.00\n",
       "4  Call      1     1        196,773.00"
      ]
     },
     "execution_count": 24,
     "metadata": {},
     "output_type": "execute_result"
    }
   ],
   "source": [
    "interactions.head()"
   ]
  },
  {
   "cell_type": "markdown",
   "metadata": {},
   "source": [
    "### Aggregating"
   ]
  },
  {
   "cell_type": "code",
   "execution_count": 25,
   "metadata": {},
   "outputs": [
    {
     "data": {
      "text/html": [
       "<div>\n",
       "<style scoped>\n",
       "    .dataframe tbody tr th:only-of-type {\n",
       "        vertical-align: middle;\n",
       "    }\n",
       "\n",
       "    .dataframe tbody tr th {\n",
       "        vertical-align: top;\n",
       "    }\n",
       "\n",
       "    .dataframe thead th {\n",
       "        text-align: right;\n",
       "    }\n",
       "</style>\n",
       "<table border=\"1\" class=\"dataframe\">\n",
       "  <thead>\n",
       "    <tr style=\"text-align: right;\">\n",
       "      <th></th>\n",
       "      <th>CUSTOMER_SITE_ID</th>\n",
       "      <th>Type</th>\n",
       "    </tr>\n",
       "  </thead>\n",
       "  <tbody>\n",
       "    <tr>\n",
       "      <th>0</th>\n",
       "      <td>20.00</td>\n",
       "      <td>Other</td>\n",
       "    </tr>\n",
       "    <tr>\n",
       "      <th>1</th>\n",
       "      <td>24.00</td>\n",
       "      <td>Call</td>\n",
       "    </tr>\n",
       "    <tr>\n",
       "      <th>2</th>\n",
       "      <td>29.00</td>\n",
       "      <td>Dial</td>\n",
       "    </tr>\n",
       "    <tr>\n",
       "      <th>3</th>\n",
       "      <td>31.00</td>\n",
       "      <td>Call</td>\n",
       "    </tr>\n",
       "    <tr>\n",
       "      <th>4</th>\n",
       "      <td>36.00</td>\n",
       "      <td>Call</td>\n",
       "    </tr>\n",
       "  </tbody>\n",
       "</table>\n",
       "</div>"
      ],
      "text/plain": [
       "   CUSTOMER_SITE_ID   Type\n",
       "0             20.00  Other\n",
       "1             24.00   Call\n",
       "2             29.00   Dial\n",
       "3             31.00   Call\n",
       "4             36.00   Call"
      ]
     },
     "execution_count": 25,
     "metadata": {},
     "output_type": "execute_result"
    }
   ],
   "source": [
    "# aggregate Type\n",
    "interactions1 = interactions[['CUSTOMER_SITE_ID','Type']]\n",
    "interactions2 = interactions1.groupby('CUSTOMER_SITE_ID')['Type'].apply(lambda x: x.mode()[0]).reset_index()\n",
    "interactions2.head()"
   ]
  },
  {
   "cell_type": "code",
   "execution_count": 26,
   "metadata": {},
   "outputs": [
    {
     "data": {
      "text/plain": [
       "1.0"
      ]
     },
     "execution_count": 26,
     "metadata": {},
     "output_type": "execute_result"
    }
   ],
   "source": [
    "# # check all customer sites are unique\n",
    "len(interactions2['CUSTOMER_SITE_ID'])/len(interactions2['CUSTOMER_SITE_ID'].unique())"
   ]
  },
  {
   "cell_type": "code",
   "execution_count": 27,
   "metadata": {},
   "outputs": [
    {
     "data": {
      "text/html": [
       "<div>\n",
       "<style scoped>\n",
       "    .dataframe tbody tr th:only-of-type {\n",
       "        vertical-align: middle;\n",
       "    }\n",
       "\n",
       "    .dataframe tbody tr th {\n",
       "        vertical-align: top;\n",
       "    }\n",
       "\n",
       "    .dataframe thead th {\n",
       "        text-align: right;\n",
       "    }\n",
       "</style>\n",
       "<table border=\"1\" class=\"dataframe\">\n",
       "  <thead>\n",
       "    <tr style=\"text-align: right;\">\n",
       "      <th></th>\n",
       "      <th>CUSTOMER_SITE_ID</th>\n",
       "      <th>Visit</th>\n",
       "      <th>Task</th>\n",
       "    </tr>\n",
       "  </thead>\n",
       "  <tbody>\n",
       "    <tr>\n",
       "      <th>0</th>\n",
       "      <td>20.00</td>\n",
       "      <td>4</td>\n",
       "      <td>7</td>\n",
       "    </tr>\n",
       "    <tr>\n",
       "      <th>1</th>\n",
       "      <td>24.00</td>\n",
       "      <td>81</td>\n",
       "      <td>73</td>\n",
       "    </tr>\n",
       "    <tr>\n",
       "      <th>2</th>\n",
       "      <td>29.00</td>\n",
       "      <td>1</td>\n",
       "      <td>1</td>\n",
       "    </tr>\n",
       "    <tr>\n",
       "      <th>3</th>\n",
       "      <td>31.00</td>\n",
       "      <td>25</td>\n",
       "      <td>26</td>\n",
       "    </tr>\n",
       "    <tr>\n",
       "      <th>4</th>\n",
       "      <td>36.00</td>\n",
       "      <td>84</td>\n",
       "      <td>88</td>\n",
       "    </tr>\n",
       "  </tbody>\n",
       "</table>\n",
       "</div>"
      ],
      "text/plain": [
       "   CUSTOMER_SITE_ID  Visit  Task\n",
       "0             20.00      4     7\n",
       "1             24.00     81    73\n",
       "2             29.00      1     1\n",
       "3             31.00     25    26\n",
       "4             36.00     84    88"
      ]
     },
     "execution_count": 27,
     "metadata": {},
     "output_type": "execute_result"
    }
   ],
   "source": [
    "# aggregate Visit and Task\n",
    "interactions = interactions.drop('Type',axis = 1)\n",
    "interactions3 = interactions.groupby('CUSTOMER_SITE_ID')[['Visit','Task']].sum().reset_index()\n",
    "interactions3.head()"
   ]
  },
  {
   "cell_type": "code",
   "execution_count": 28,
   "metadata": {},
   "outputs": [
    {
     "data": {
      "text/html": [
       "<div>\n",
       "<style scoped>\n",
       "    .dataframe tbody tr th:only-of-type {\n",
       "        vertical-align: middle;\n",
       "    }\n",
       "\n",
       "    .dataframe tbody tr th {\n",
       "        vertical-align: top;\n",
       "    }\n",
       "\n",
       "    .dataframe thead th {\n",
       "        text-align: right;\n",
       "    }\n",
       "</style>\n",
       "<table border=\"1\" class=\"dataframe\">\n",
       "  <thead>\n",
       "    <tr style=\"text-align: right;\">\n",
       "      <th></th>\n",
       "      <th>CUSTOMER_SITE_ID</th>\n",
       "      <th>Type</th>\n",
       "      <th>Visit</th>\n",
       "      <th>Task</th>\n",
       "    </tr>\n",
       "  </thead>\n",
       "  <tbody>\n",
       "    <tr>\n",
       "      <th>0</th>\n",
       "      <td>20.00</td>\n",
       "      <td>Other</td>\n",
       "      <td>4</td>\n",
       "      <td>7</td>\n",
       "    </tr>\n",
       "    <tr>\n",
       "      <th>1</th>\n",
       "      <td>24.00</td>\n",
       "      <td>Call</td>\n",
       "      <td>81</td>\n",
       "      <td>73</td>\n",
       "    </tr>\n",
       "    <tr>\n",
       "      <th>2</th>\n",
       "      <td>29.00</td>\n",
       "      <td>Dial</td>\n",
       "      <td>1</td>\n",
       "      <td>1</td>\n",
       "    </tr>\n",
       "    <tr>\n",
       "      <th>3</th>\n",
       "      <td>31.00</td>\n",
       "      <td>Call</td>\n",
       "      <td>25</td>\n",
       "      <td>26</td>\n",
       "    </tr>\n",
       "    <tr>\n",
       "      <th>4</th>\n",
       "      <td>36.00</td>\n",
       "      <td>Call</td>\n",
       "      <td>84</td>\n",
       "      <td>88</td>\n",
       "    </tr>\n",
       "  </tbody>\n",
       "</table>\n",
       "</div>"
      ],
      "text/plain": [
       "   CUSTOMER_SITE_ID   Type  Visit  Task\n",
       "0             20.00  Other      4     7\n",
       "1             24.00   Call     81    73\n",
       "2             29.00   Dial      1     1\n",
       "3             31.00   Call     25    26\n",
       "4             36.00   Call     84    88"
      ]
     },
     "execution_count": 28,
     "metadata": {},
     "output_type": "execute_result"
    }
   ],
   "source": [
    "# combine aggregated variables\n",
    "interactions = pd.merge(interactions2, interactions3, how = 'inner')\n",
    "interactions.head()"
   ]
  },
  {
   "cell_type": "code",
   "execution_count": 29,
   "metadata": {},
   "outputs": [
    {
     "data": {
      "text/html": [
       "<div>\n",
       "<style scoped>\n",
       "    .dataframe tbody tr th:only-of-type {\n",
       "        vertical-align: middle;\n",
       "    }\n",
       "\n",
       "    .dataframe tbody tr th {\n",
       "        vertical-align: top;\n",
       "    }\n",
       "\n",
       "    .dataframe thead th {\n",
       "        text-align: right;\n",
       "    }\n",
       "</style>\n",
       "<table border=\"1\" class=\"dataframe\">\n",
       "  <thead>\n",
       "    <tr style=\"text-align: right;\">\n",
       "      <th></th>\n",
       "      <th>CUSTOMER_SITE_ID</th>\n",
       "      <th>Most_Frequent_Interaction_Type</th>\n",
       "      <th>Total_Visits</th>\n",
       "      <th>Total_Tasks</th>\n",
       "    </tr>\n",
       "  </thead>\n",
       "  <tbody>\n",
       "    <tr>\n",
       "      <th>0</th>\n",
       "      <td>20.00</td>\n",
       "      <td>Other</td>\n",
       "      <td>4</td>\n",
       "      <td>7</td>\n",
       "    </tr>\n",
       "    <tr>\n",
       "      <th>1</th>\n",
       "      <td>24.00</td>\n",
       "      <td>Call</td>\n",
       "      <td>81</td>\n",
       "      <td>73</td>\n",
       "    </tr>\n",
       "    <tr>\n",
       "      <th>2</th>\n",
       "      <td>29.00</td>\n",
       "      <td>Dial</td>\n",
       "      <td>1</td>\n",
       "      <td>1</td>\n",
       "    </tr>\n",
       "    <tr>\n",
       "      <th>3</th>\n",
       "      <td>31.00</td>\n",
       "      <td>Call</td>\n",
       "      <td>25</td>\n",
       "      <td>26</td>\n",
       "    </tr>\n",
       "    <tr>\n",
       "      <th>4</th>\n",
       "      <td>36.00</td>\n",
       "      <td>Call</td>\n",
       "      <td>84</td>\n",
       "      <td>88</td>\n",
       "    </tr>\n",
       "  </tbody>\n",
       "</table>\n",
       "</div>"
      ],
      "text/plain": [
       "   CUSTOMER_SITE_ID Most_Frequent_Interaction_Type  Total_Visits  Total_Tasks\n",
       "0             20.00                          Other             4            7\n",
       "1             24.00                           Call            81           73\n",
       "2             29.00                           Dial             1            1\n",
       "3             31.00                           Call            25           26\n",
       "4             36.00                           Call            84           88"
      ]
     },
     "execution_count": 29,
     "metadata": {},
     "output_type": "execute_result"
    }
   ],
   "source": [
    "# rename columns\n",
    "interactions = interactions.rename(columns = {\"Type\": 'Most_Frequent_Interaction_Type',\n",
    "                                              \"Visit\": \"Total_Visits\",\n",
    "                                              \"Task\": \"Total_Tasks\"})\n",
    "interactions.head()"
   ]
  },
  {
   "cell_type": "code",
   "execution_count": 30,
   "metadata": {},
   "outputs": [
    {
     "data": {
      "text/plain": [
       "1.0"
      ]
     },
     "execution_count": 30,
     "metadata": {},
     "output_type": "execute_result"
    }
   ],
   "source": [
    "# # check all customer sites are unique\n",
    "len(interactions['CUSTOMER_SITE_ID'])/len(interactions['CUSTOMER_SITE_ID'].unique())"
   ]
  },
  {
   "cell_type": "markdown",
   "metadata": {},
   "source": [
    "## Cases"
   ]
  },
  {
   "cell_type": "code",
   "execution_count": 31,
   "metadata": {},
   "outputs": [
    {
     "data": {
      "text/html": [
       "<div>\n",
       "<style scoped>\n",
       "    .dataframe tbody tr th:only-of-type {\n",
       "        vertical-align: middle;\n",
       "    }\n",
       "\n",
       "    .dataframe tbody tr th {\n",
       "        vertical-align: top;\n",
       "    }\n",
       "\n",
       "    .dataframe thead th {\n",
       "        text-align: right;\n",
       "    }\n",
       "</style>\n",
       "<table border=\"1\" class=\"dataframe\">\n",
       "  <thead>\n",
       "    <tr style=\"text-align: right;\">\n",
       "      <th></th>\n",
       "      <th>NO_OF_CASES</th>\n",
       "      <th>CASE_ORIGIN</th>\n",
       "      <th>CASE_REASON</th>\n",
       "      <th>CX_CASE_L1_REASON</th>\n",
       "      <th>CX_CASE_L2_REASON</th>\n",
       "      <th>MAX_MODIFIED_DATE</th>\n",
       "      <th>DUNS_NUMBER</th>\n",
       "      <th>SFDC_ID</th>\n",
       "      <th>CUSTOMER_SITE_ID</th>\n",
       "    </tr>\n",
       "  </thead>\n",
       "  <tbody>\n",
       "    <tr>\n",
       "      <th>1635</th>\n",
       "      <td>50</td>\n",
       "      <td>Email - VTI NACC</td>\n",
       "      <td>Customer Experience</td>\n",
       "      <td>NaN</td>\n",
       "      <td>NaN</td>\n",
       "      <td>4/24/2020 0:00</td>\n",
       "      <td>51,113,330.00</td>\n",
       "      <td>0018000000drEC9AAM</td>\n",
       "      <td>20.00</td>\n",
       "    </tr>\n",
       "    <tr>\n",
       "      <th>2128</th>\n",
       "      <td>10</td>\n",
       "      <td>Email - VTI NACC</td>\n",
       "      <td>Customer Experience</td>\n",
       "      <td>NaN</td>\n",
       "      <td>NaN</td>\n",
       "      <td>4/27/2020 0:00</td>\n",
       "      <td>42,971,069.00</td>\n",
       "      <td>0018000000WWwxvAAD</td>\n",
       "      <td>64,948.00</td>\n",
       "    </tr>\n",
       "    <tr>\n",
       "      <th>2828</th>\n",
       "      <td>8</td>\n",
       "      <td>Email - VTI NACC</td>\n",
       "      <td>Customer Experience</td>\n",
       "      <td>NaN</td>\n",
       "      <td>NaN</td>\n",
       "      <td>4/27/2020 0:00</td>\n",
       "      <td>48,583,939.00</td>\n",
       "      <td>001C000001FYPD0IAP</td>\n",
       "      <td>702,114.00</td>\n",
       "    </tr>\n",
       "    <tr>\n",
       "      <th>309</th>\n",
       "      <td>8</td>\n",
       "      <td>Email - VTI NACC</td>\n",
       "      <td>Customer Experience</td>\n",
       "      <td>NaN</td>\n",
       "      <td>NaN</td>\n",
       "      <td>2/7/2020 0:00</td>\n",
       "      <td>206,945,144.00</td>\n",
       "      <td>0018000000dsClhAAE</td>\n",
       "      <td>112,471.00</td>\n",
       "    </tr>\n",
       "    <tr>\n",
       "      <th>1258</th>\n",
       "      <td>7</td>\n",
       "      <td>Email - VTI NACC</td>\n",
       "      <td>Customer Experience</td>\n",
       "      <td>NaN</td>\n",
       "      <td>NaN</td>\n",
       "      <td>2/20/2020 0:00</td>\n",
       "      <td>122,324,999.00</td>\n",
       "      <td>0011A00001XPTF4QAP</td>\n",
       "      <td>8,317,382.00</td>\n",
       "    </tr>\n",
       "    <tr>\n",
       "      <th>1985</th>\n",
       "      <td>7</td>\n",
       "      <td>TS Survey Followup</td>\n",
       "      <td>CX: Tech Support</td>\n",
       "      <td>NaN</td>\n",
       "      <td>NaN</td>\n",
       "      <td>2/10/2020 0:00</td>\n",
       "      <td>51,113,330.00</td>\n",
       "      <td>0018000000drEC9AAM</td>\n",
       "      <td>20.00</td>\n",
       "    </tr>\n",
       "    <tr>\n",
       "      <th>980</th>\n",
       "      <td>6</td>\n",
       "      <td>Email - VTI NACC</td>\n",
       "      <td>Customer Experience</td>\n",
       "      <td>NaN</td>\n",
       "      <td>NaN</td>\n",
       "      <td>2/27/2020 0:00</td>\n",
       "      <td>115,993,883.00</td>\n",
       "      <td>001C000001J9SyxIAF</td>\n",
       "      <td>736,520.00</td>\n",
       "    </tr>\n",
       "    <tr>\n",
       "      <th>1671</th>\n",
       "      <td>6</td>\n",
       "      <td>Email - VTI NACC</td>\n",
       "      <td>Customer Experience</td>\n",
       "      <td>NaN</td>\n",
       "      <td>NaN</td>\n",
       "      <td>3/12/2020 0:00</td>\n",
       "      <td>15,772,159.00</td>\n",
       "      <td>0018000000drJccAAE</td>\n",
       "      <td>206,712.00</td>\n",
       "    </tr>\n",
       "    <tr>\n",
       "      <th>153</th>\n",
       "      <td>6</td>\n",
       "      <td>Email - VTI NACC</td>\n",
       "      <td>Customer Experience</td>\n",
       "      <td>NaN</td>\n",
       "      <td>NaN</td>\n",
       "      <td>12/20/2019 0:00</td>\n",
       "      <td>246,997,816.00</td>\n",
       "      <td>0018000000drEkeAAE</td>\n",
       "      <td>72,087.00</td>\n",
       "    </tr>\n",
       "    <tr>\n",
       "      <th>2011</th>\n",
       "      <td>6</td>\n",
       "      <td>Email - VTI NACC</td>\n",
       "      <td>Customer Experience</td>\n",
       "      <td>NaN</td>\n",
       "      <td>NaN</td>\n",
       "      <td>4/23/2020 0:00</td>\n",
       "      <td>80,742,445.00</td>\n",
       "      <td>0011A00001VbI2SQAV</td>\n",
       "      <td>7,096,062.00</td>\n",
       "    </tr>\n",
       "  </tbody>\n",
       "</table>\n",
       "</div>"
      ],
      "text/plain": [
       "      NO_OF_CASES         CASE_ORIGIN          CASE_REASON CX_CASE_L1_REASON  \\\n",
       "1635           50    Email - VTI NACC  Customer Experience               NaN   \n",
       "2128           10    Email - VTI NACC  Customer Experience               NaN   \n",
       "2828            8    Email - VTI NACC  Customer Experience               NaN   \n",
       "309             8    Email - VTI NACC  Customer Experience               NaN   \n",
       "1258            7    Email - VTI NACC  Customer Experience               NaN   \n",
       "1985            7  TS Survey Followup     CX: Tech Support               NaN   \n",
       "980             6    Email - VTI NACC  Customer Experience               NaN   \n",
       "1671            6    Email - VTI NACC  Customer Experience               NaN   \n",
       "153             6    Email - VTI NACC  Customer Experience               NaN   \n",
       "2011            6    Email - VTI NACC  Customer Experience               NaN   \n",
       "\n",
       "     CX_CASE_L2_REASON MAX_MODIFIED_DATE    DUNS_NUMBER             SFDC_ID  \\\n",
       "1635               NaN    4/24/2020 0:00  51,113,330.00  0018000000drEC9AAM   \n",
       "2128               NaN    4/27/2020 0:00  42,971,069.00  0018000000WWwxvAAD   \n",
       "2828               NaN    4/27/2020 0:00  48,583,939.00  001C000001FYPD0IAP   \n",
       "309                NaN     2/7/2020 0:00 206,945,144.00  0018000000dsClhAAE   \n",
       "1258               NaN    2/20/2020 0:00 122,324,999.00  0011A00001XPTF4QAP   \n",
       "1985               NaN    2/10/2020 0:00  51,113,330.00  0018000000drEC9AAM   \n",
       "980                NaN    2/27/2020 0:00 115,993,883.00  001C000001J9SyxIAF   \n",
       "1671               NaN    3/12/2020 0:00  15,772,159.00  0018000000drJccAAE   \n",
       "153                NaN   12/20/2019 0:00 246,997,816.00  0018000000drEkeAAE   \n",
       "2011               NaN    4/23/2020 0:00  80,742,445.00  0011A00001VbI2SQAV   \n",
       "\n",
       "      CUSTOMER_SITE_ID  \n",
       "1635             20.00  \n",
       "2128         64,948.00  \n",
       "2828        702,114.00  \n",
       "309         112,471.00  \n",
       "1258      8,317,382.00  \n",
       "1985             20.00  \n",
       "980         736,520.00  \n",
       "1671        206,712.00  \n",
       "153          72,087.00  \n",
       "2011      7,096,062.00  "
      ]
     },
     "execution_count": 31,
     "metadata": {},
     "output_type": "execute_result"
    }
   ],
   "source": [
    "cases.sort_values(by='NO_OF_CASES', ascending=False).head(10)"
   ]
  },
  {
   "cell_type": "code",
   "execution_count": 32,
   "metadata": {},
   "outputs": [
    {
     "data": {
      "text/plain": [
       "(3027, 9)"
      ]
     },
     "execution_count": 32,
     "metadata": {},
     "output_type": "execute_result"
    }
   ],
   "source": [
    "cases.shape"
   ]
  },
  {
   "cell_type": "markdown",
   "metadata": {},
   "source": [
    "### Preprocessing before aggregating"
   ]
  },
  {
   "cell_type": "code",
   "execution_count": 33,
   "metadata": {},
   "outputs": [
    {
     "data": {
      "text/plain": [
       "(3018, 9)"
      ]
     },
     "execution_count": 33,
     "metadata": {},
     "output_type": "execute_result"
    }
   ],
   "source": [
    "# check duplicates\n",
    "cases.drop_duplicates(inplace = True)\n",
    "cases.shape"
   ]
  },
  {
   "cell_type": "code",
   "execution_count": 34,
   "metadata": {},
   "outputs": [
    {
     "name": "stdout",
     "output_type": "stream",
     "text": [
      "<class 'pandas.core.frame.DataFrame'>\n",
      "Int64Index: 3018 entries, 0 to 3026\n",
      "Data columns (total 9 columns):\n",
      " #   Column             Non-Null Count  Dtype  \n",
      "---  ------             --------------  -----  \n",
      " 0   NO_OF_CASES        3018 non-null   int64  \n",
      " 1   CASE_ORIGIN        3016 non-null   object \n",
      " 2   CASE_REASON        3018 non-null   object \n",
      " 3   CX_CASE_L1_REASON  571 non-null    object \n",
      " 4   CX_CASE_L2_REASON  426 non-null    object \n",
      " 5   MAX_MODIFIED_DATE  3018 non-null   object \n",
      " 6   DUNS_NUMBER        2950 non-null   float64\n",
      " 7   SFDC_ID            2948 non-null   object \n",
      " 8   CUSTOMER_SITE_ID   2950 non-null   float64\n",
      "dtypes: float64(2), int64(1), object(6)\n",
      "memory usage: 235.8+ KB\n"
     ]
    }
   ],
   "source": [
    "# check column names and null values\n",
    "cases.info()"
   ]
  },
  {
   "cell_type": "code",
   "execution_count": 35,
   "metadata": {},
   "outputs": [
    {
     "name": "stdout",
     "output_type": "stream",
     "text": [
      "<class 'pandas.core.frame.DataFrame'>\n",
      "Int64Index: 2948 entries, 0 to 3026\n",
      "Data columns (total 9 columns):\n",
      " #   Column             Non-Null Count  Dtype  \n",
      "---  ------             --------------  -----  \n",
      " 0   NO_OF_CASES        2948 non-null   int64  \n",
      " 1   CASE_ORIGIN        2948 non-null   object \n",
      " 2   CASE_REASON        2948 non-null   object \n",
      " 3   CX_CASE_L1_REASON  555 non-null    object \n",
      " 4   CX_CASE_L2_REASON  416 non-null    object \n",
      " 5   MAX_MODIFIED_DATE  2948 non-null   object \n",
      " 6   DUNS_NUMBER        2948 non-null   float64\n",
      " 7   SFDC_ID            2946 non-null   object \n",
      " 8   CUSTOMER_SITE_ID   2948 non-null   float64\n",
      "dtypes: float64(2), int64(1), object(6)\n",
      "memory usage: 230.3+ KB\n"
     ]
    }
   ],
   "source": [
    "# drop rows with null values in CUSTOMER_SITE_ID, CASE_ORIGIN\n",
    "cases = cases.dropna(axis = 0, subset = ['CUSTOMER_SITE_ID'])\n",
    "cases = cases.dropna(axis = 0, subset = ['CASE_ORIGIN'])\n",
    "cases.info()"
   ]
  },
  {
   "cell_type": "code",
   "execution_count": 36,
   "metadata": {},
   "outputs": [
    {
     "name": "stdout",
     "output_type": "stream",
     "text": [
      "<class 'pandas.core.frame.DataFrame'>\n",
      "Int64Index: 2948 entries, 0 to 3026\n",
      "Data columns (total 4 columns):\n",
      " #   Column            Non-Null Count  Dtype  \n",
      "---  ------            --------------  -----  \n",
      " 0   NO_OF_CASES       2948 non-null   int64  \n",
      " 1   CASE_ORIGIN       2948 non-null   object \n",
      " 2   CASE_REASON       2948 non-null   object \n",
      " 3   CUSTOMER_SITE_ID  2948 non-null   float64\n",
      "dtypes: float64(1), int64(1), object(2)\n",
      "memory usage: 115.2+ KB\n"
     ]
    }
   ],
   "source": [
    "# drop unnecessary columns\n",
    "cases.drop(['SFDC_ID','DUNS_NUMBER','MAX_MODIFIED_DATE','CX_CASE_L1_REASON','CX_CASE_L2_REASON'],\n",
    "            axis = 1, inplace = True)\n",
    "cases.info()"
   ]
  },
  {
   "cell_type": "code",
   "execution_count": 37,
   "metadata": {},
   "outputs": [
    {
     "data": {
      "text/html": [
       "<div>\n",
       "<style scoped>\n",
       "    .dataframe tbody tr th:only-of-type {\n",
       "        vertical-align: middle;\n",
       "    }\n",
       "\n",
       "    .dataframe tbody tr th {\n",
       "        vertical-align: top;\n",
       "    }\n",
       "\n",
       "    .dataframe thead th {\n",
       "        text-align: right;\n",
       "    }\n",
       "</style>\n",
       "<table border=\"1\" class=\"dataframe\">\n",
       "  <thead>\n",
       "    <tr style=\"text-align: right;\">\n",
       "      <th></th>\n",
       "      <th>NO_OF_CASES</th>\n",
       "      <th>CASE_ORIGIN</th>\n",
       "      <th>CASE_REASON</th>\n",
       "      <th>CUSTOMER_SITE_ID</th>\n",
       "    </tr>\n",
       "  </thead>\n",
       "  <tbody>\n",
       "    <tr>\n",
       "      <th>0</th>\n",
       "      <td>1</td>\n",
       "      <td>CC Survey Followup</td>\n",
       "      <td>CX: Customer Care</td>\n",
       "      <td>10,599.00</td>\n",
       "    </tr>\n",
       "    <tr>\n",
       "      <th>1</th>\n",
       "      <td>1</td>\n",
       "      <td>CC Survey Followup</td>\n",
       "      <td>CX: Customer Care</td>\n",
       "      <td>73,688.00</td>\n",
       "    </tr>\n",
       "    <tr>\n",
       "      <th>2</th>\n",
       "      <td>1</td>\n",
       "      <td>CC Survey Followup</td>\n",
       "      <td>CX: Customer Care</td>\n",
       "      <td>895.00</td>\n",
       "    </tr>\n",
       "    <tr>\n",
       "      <th>3</th>\n",
       "      <td>1</td>\n",
       "      <td>CC Survey Followup</td>\n",
       "      <td>CX: Customer Care</td>\n",
       "      <td>229,512.00</td>\n",
       "    </tr>\n",
       "    <tr>\n",
       "      <th>4</th>\n",
       "      <td>1</td>\n",
       "      <td>TS Survey Followup</td>\n",
       "      <td>CX: Customer Care</td>\n",
       "      <td>362,868.00</td>\n",
       "    </tr>\n",
       "  </tbody>\n",
       "</table>\n",
       "</div>"
      ],
      "text/plain": [
       "   NO_OF_CASES         CASE_ORIGIN        CASE_REASON  CUSTOMER_SITE_ID\n",
       "0            1  CC Survey Followup  CX: Customer Care         10,599.00\n",
       "1            1  CC Survey Followup  CX: Customer Care         73,688.00\n",
       "2            1  CC Survey Followup  CX: Customer Care            895.00\n",
       "3            1  CC Survey Followup  CX: Customer Care        229,512.00\n",
       "4            1  TS Survey Followup  CX: Customer Care        362,868.00"
      ]
     },
     "execution_count": 37,
     "metadata": {},
     "output_type": "execute_result"
    }
   ],
   "source": [
    "cases.head()"
   ]
  },
  {
   "cell_type": "markdown",
   "metadata": {},
   "source": [
    "### Aggregating"
   ]
  },
  {
   "cell_type": "code",
   "execution_count": 38,
   "metadata": {},
   "outputs": [
    {
     "data": {
      "text/html": [
       "<div>\n",
       "<style scoped>\n",
       "    .dataframe tbody tr th:only-of-type {\n",
       "        vertical-align: middle;\n",
       "    }\n",
       "\n",
       "    .dataframe tbody tr th {\n",
       "        vertical-align: top;\n",
       "    }\n",
       "\n",
       "    .dataframe thead th {\n",
       "        text-align: right;\n",
       "    }\n",
       "</style>\n",
       "<table border=\"1\" class=\"dataframe\">\n",
       "  <thead>\n",
       "    <tr style=\"text-align: right;\">\n",
       "      <th></th>\n",
       "      <th>CUSTOMER_SITE_ID</th>\n",
       "      <th>CASE_ORIGIN</th>\n",
       "    </tr>\n",
       "  </thead>\n",
       "  <tbody>\n",
       "    <tr>\n",
       "      <th>0</th>\n",
       "      <td>20.00</td>\n",
       "      <td>Email - VTI NACC</td>\n",
       "    </tr>\n",
       "    <tr>\n",
       "      <th>1</th>\n",
       "      <td>36.00</td>\n",
       "      <td>Email - VTI NACC</td>\n",
       "    </tr>\n",
       "    <tr>\n",
       "      <th>2</th>\n",
       "      <td>86.00</td>\n",
       "      <td>Email - VTI NACC</td>\n",
       "    </tr>\n",
       "    <tr>\n",
       "      <th>3</th>\n",
       "      <td>114.00</td>\n",
       "      <td>Email - VTI NACC</td>\n",
       "    </tr>\n",
       "    <tr>\n",
       "      <th>4</th>\n",
       "      <td>126.00</td>\n",
       "      <td>Phone</td>\n",
       "    </tr>\n",
       "    <tr>\n",
       "      <th>5</th>\n",
       "      <td>136.00</td>\n",
       "      <td>Phone</td>\n",
       "    </tr>\n",
       "    <tr>\n",
       "      <th>6</th>\n",
       "      <td>169.00</td>\n",
       "      <td>Phone</td>\n",
       "    </tr>\n",
       "    <tr>\n",
       "      <th>7</th>\n",
       "      <td>367.00</td>\n",
       "      <td>TS Survey Followup</td>\n",
       "    </tr>\n",
       "    <tr>\n",
       "      <th>8</th>\n",
       "      <td>403.00</td>\n",
       "      <td>Phone</td>\n",
       "    </tr>\n",
       "    <tr>\n",
       "      <th>9</th>\n",
       "      <td>429.00</td>\n",
       "      <td>Email - VTI NACC</td>\n",
       "    </tr>\n",
       "  </tbody>\n",
       "</table>\n",
       "</div>"
      ],
      "text/plain": [
       "   CUSTOMER_SITE_ID         CASE_ORIGIN\n",
       "0             20.00    Email - VTI NACC\n",
       "1             36.00    Email - VTI NACC\n",
       "2             86.00    Email - VTI NACC\n",
       "3            114.00    Email - VTI NACC\n",
       "4            126.00               Phone\n",
       "5            136.00               Phone\n",
       "6            169.00               Phone\n",
       "7            367.00  TS Survey Followup\n",
       "8            403.00               Phone\n",
       "9            429.00    Email - VTI NACC"
      ]
     },
     "execution_count": 38,
     "metadata": {},
     "output_type": "execute_result"
    }
   ],
   "source": [
    "# aggregate CASE_ORIGIN\n",
    "cases01 = cases.groupby(['CUSTOMER_SITE_ID','CASE_ORIGIN'])['NO_OF_CASES'].sum().reset_index()\n",
    "cases02 = cases01.groupby('CUSTOMER_SITE_ID')['NO_OF_CASES'].max().reset_index()\n",
    "cases03 = cases02.merge(cases01, how = 'inner', on=['CUSTOMER_SITE_ID','NO_OF_CASES'])\n",
    "cases03 = cases03.groupby('CUSTOMER_SITE_ID')['CASE_ORIGIN'].apply(lambda x: x.mode()[0]).reset_index()\n",
    "cases03.head(10)"
   ]
  },
  {
   "cell_type": "code",
   "execution_count": 39,
   "metadata": {},
   "outputs": [
    {
     "data": {
      "text/plain": [
       "1.0"
      ]
     },
     "execution_count": 39,
     "metadata": {},
     "output_type": "execute_result"
    }
   ],
   "source": [
    "len(cases03.CUSTOMER_SITE_ID.value_counts())/len(cases03)"
   ]
  },
  {
   "cell_type": "code",
   "execution_count": 40,
   "metadata": {},
   "outputs": [
    {
     "data": {
      "text/html": [
       "<div>\n",
       "<style scoped>\n",
       "    .dataframe tbody tr th:only-of-type {\n",
       "        vertical-align: middle;\n",
       "    }\n",
       "\n",
       "    .dataframe tbody tr th {\n",
       "        vertical-align: top;\n",
       "    }\n",
       "\n",
       "    .dataframe thead th {\n",
       "        text-align: right;\n",
       "    }\n",
       "</style>\n",
       "<table border=\"1\" class=\"dataframe\">\n",
       "  <thead>\n",
       "    <tr style=\"text-align: right;\">\n",
       "      <th></th>\n",
       "      <th>CUSTOMER_SITE_ID</th>\n",
       "      <th>CASE_REASON</th>\n",
       "    </tr>\n",
       "  </thead>\n",
       "  <tbody>\n",
       "    <tr>\n",
       "      <th>0</th>\n",
       "      <td>20.00</td>\n",
       "      <td>Customer Experience</td>\n",
       "    </tr>\n",
       "    <tr>\n",
       "      <th>1</th>\n",
       "      <td>36.00</td>\n",
       "      <td>Customer Experience</td>\n",
       "    </tr>\n",
       "    <tr>\n",
       "      <th>2</th>\n",
       "      <td>86.00</td>\n",
       "      <td>Customer Experience</td>\n",
       "    </tr>\n",
       "    <tr>\n",
       "      <th>3</th>\n",
       "      <td>114.00</td>\n",
       "      <td>Customer Experience</td>\n",
       "    </tr>\n",
       "    <tr>\n",
       "      <th>4</th>\n",
       "      <td>126.00</td>\n",
       "      <td>Customer Experience</td>\n",
       "    </tr>\n",
       "    <tr>\n",
       "      <th>5</th>\n",
       "      <td>136.00</td>\n",
       "      <td>Customer Experience</td>\n",
       "    </tr>\n",
       "    <tr>\n",
       "      <th>6</th>\n",
       "      <td>169.00</td>\n",
       "      <td>Customer Experience</td>\n",
       "    </tr>\n",
       "    <tr>\n",
       "      <th>7</th>\n",
       "      <td>367.00</td>\n",
       "      <td>CX: Tech Support</td>\n",
       "    </tr>\n",
       "    <tr>\n",
       "      <th>8</th>\n",
       "      <td>403.00</td>\n",
       "      <td>Customer Experience</td>\n",
       "    </tr>\n",
       "    <tr>\n",
       "      <th>9</th>\n",
       "      <td>429.00</td>\n",
       "      <td>Customer Experience</td>\n",
       "    </tr>\n",
       "  </tbody>\n",
       "</table>\n",
       "</div>"
      ],
      "text/plain": [
       "   CUSTOMER_SITE_ID          CASE_REASON\n",
       "0             20.00  Customer Experience\n",
       "1             36.00  Customer Experience\n",
       "2             86.00  Customer Experience\n",
       "3            114.00  Customer Experience\n",
       "4            126.00  Customer Experience\n",
       "5            136.00  Customer Experience\n",
       "6            169.00  Customer Experience\n",
       "7            367.00     CX: Tech Support\n",
       "8            403.00  Customer Experience\n",
       "9            429.00  Customer Experience"
      ]
     },
     "execution_count": 40,
     "metadata": {},
     "output_type": "execute_result"
    }
   ],
   "source": [
    "# aggregate CASE_REASON\n",
    "cases11 = cases.groupby(['CUSTOMER_SITE_ID','CASE_REASON'])['NO_OF_CASES'].sum().reset_index()\n",
    "cases12 = cases11.groupby('CUSTOMER_SITE_ID')['NO_OF_CASES'].max().reset_index()\n",
    "cases13 = cases12.merge(cases11, how = 'inner', on=['CUSTOMER_SITE_ID','NO_OF_CASES'])\n",
    "cases13 = cases13.groupby('CUSTOMER_SITE_ID')['CASE_REASON'].apply(lambda x: x.mode()[0]).reset_index()\n",
    "cases13.head(10)"
   ]
  },
  {
   "cell_type": "code",
   "execution_count": 41,
   "metadata": {},
   "outputs": [
    {
     "data": {
      "text/plain": [
       "1.0"
      ]
     },
     "execution_count": 41,
     "metadata": {},
     "output_type": "execute_result"
    }
   ],
   "source": [
    "len(cases13.CUSTOMER_SITE_ID.value_counts())/len(cases13)"
   ]
  },
  {
   "cell_type": "code",
   "execution_count": 42,
   "metadata": {},
   "outputs": [
    {
     "data": {
      "text/html": [
       "<div>\n",
       "<style scoped>\n",
       "    .dataframe tbody tr th:only-of-type {\n",
       "        vertical-align: middle;\n",
       "    }\n",
       "\n",
       "    .dataframe tbody tr th {\n",
       "        vertical-align: top;\n",
       "    }\n",
       "\n",
       "    .dataframe thead th {\n",
       "        text-align: right;\n",
       "    }\n",
       "</style>\n",
       "<table border=\"1\" class=\"dataframe\">\n",
       "  <thead>\n",
       "    <tr style=\"text-align: right;\">\n",
       "      <th></th>\n",
       "      <th>CUSTOMER_SITE_ID</th>\n",
       "      <th>NO_OF_CASES</th>\n",
       "    </tr>\n",
       "  </thead>\n",
       "  <tbody>\n",
       "    <tr>\n",
       "      <th>0</th>\n",
       "      <td>20.00</td>\n",
       "      <td>83</td>\n",
       "    </tr>\n",
       "    <tr>\n",
       "      <th>1</th>\n",
       "      <td>36.00</td>\n",
       "      <td>2</td>\n",
       "    </tr>\n",
       "    <tr>\n",
       "      <th>2</th>\n",
       "      <td>86.00</td>\n",
       "      <td>1</td>\n",
       "    </tr>\n",
       "    <tr>\n",
       "      <th>3</th>\n",
       "      <td>114.00</td>\n",
       "      <td>1</td>\n",
       "    </tr>\n",
       "    <tr>\n",
       "      <th>4</th>\n",
       "      <td>126.00</td>\n",
       "      <td>1</td>\n",
       "    </tr>\n",
       "  </tbody>\n",
       "</table>\n",
       "</div>"
      ],
      "text/plain": [
       "   CUSTOMER_SITE_ID  NO_OF_CASES\n",
       "0             20.00           83\n",
       "1             36.00            2\n",
       "2             86.00            1\n",
       "3            114.00            1\n",
       "4            126.00            1"
      ]
     },
     "execution_count": 42,
     "metadata": {},
     "output_type": "execute_result"
    }
   ],
   "source": [
    "# aggregate NO_OF_CASES\n",
    "cases1 = cases[['CUSTOMER_SITE_ID','NO_OF_CASES']]\n",
    "cases2 = cases1.groupby('CUSTOMER_SITE_ID')['NO_OF_CASES'].sum().reset_index()\n",
    "cases = cases2\n",
    "cases2.head()"
   ]
  },
  {
   "cell_type": "code",
   "execution_count": 43,
   "metadata": {},
   "outputs": [
    {
     "data": {
      "text/html": [
       "<div>\n",
       "<style scoped>\n",
       "    .dataframe tbody tr th:only-of-type {\n",
       "        vertical-align: middle;\n",
       "    }\n",
       "\n",
       "    .dataframe tbody tr th {\n",
       "        vertical-align: top;\n",
       "    }\n",
       "\n",
       "    .dataframe thead th {\n",
       "        text-align: right;\n",
       "    }\n",
       "</style>\n",
       "<table border=\"1\" class=\"dataframe\">\n",
       "  <thead>\n",
       "    <tr style=\"text-align: right;\">\n",
       "      <th></th>\n",
       "      <th>CUSTOMER_SITE_ID</th>\n",
       "      <th>Total_Cases</th>\n",
       "    </tr>\n",
       "  </thead>\n",
       "  <tbody>\n",
       "    <tr>\n",
       "      <th>0</th>\n",
       "      <td>20.00</td>\n",
       "      <td>83</td>\n",
       "    </tr>\n",
       "    <tr>\n",
       "      <th>1</th>\n",
       "      <td>36.00</td>\n",
       "      <td>2</td>\n",
       "    </tr>\n",
       "    <tr>\n",
       "      <th>2</th>\n",
       "      <td>86.00</td>\n",
       "      <td>1</td>\n",
       "    </tr>\n",
       "    <tr>\n",
       "      <th>3</th>\n",
       "      <td>114.00</td>\n",
       "      <td>1</td>\n",
       "    </tr>\n",
       "    <tr>\n",
       "      <th>4</th>\n",
       "      <td>126.00</td>\n",
       "      <td>1</td>\n",
       "    </tr>\n",
       "  </tbody>\n",
       "</table>\n",
       "</div>"
      ],
      "text/plain": [
       "   CUSTOMER_SITE_ID  Total_Cases\n",
       "0             20.00           83\n",
       "1             36.00            2\n",
       "2             86.00            1\n",
       "3            114.00            1\n",
       "4            126.00            1"
      ]
     },
     "execution_count": 43,
     "metadata": {},
     "output_type": "execute_result"
    }
   ],
   "source": [
    "# rename columns\n",
    "cases = cases.rename(columns = {\"NO_OF_CASES\": \"Total_Cases\"})\n",
    "cases.head()"
   ]
  },
  {
   "cell_type": "code",
   "execution_count": 44,
   "metadata": {},
   "outputs": [],
   "source": [
    "cases = pd.merge(cases, cases03, on='CUSTOMER_SITE_ID').merge(cases13, on='CUSTOMER_SITE_ID')"
   ]
  },
  {
   "cell_type": "code",
   "execution_count": 45,
   "metadata": {},
   "outputs": [],
   "source": [
    "cases = cases.rename(columns = {'CASE_ORIGIN':'Max_Case_Origin','CASE_REASON': 'Max_Case_Reason'})"
   ]
  },
  {
   "cell_type": "code",
   "execution_count": 46,
   "metadata": {},
   "outputs": [
    {
     "data": {
      "text/html": [
       "<div>\n",
       "<style scoped>\n",
       "    .dataframe tbody tr th:only-of-type {\n",
       "        vertical-align: middle;\n",
       "    }\n",
       "\n",
       "    .dataframe tbody tr th {\n",
       "        vertical-align: top;\n",
       "    }\n",
       "\n",
       "    .dataframe thead th {\n",
       "        text-align: right;\n",
       "    }\n",
       "</style>\n",
       "<table border=\"1\" class=\"dataframe\">\n",
       "  <thead>\n",
       "    <tr style=\"text-align: right;\">\n",
       "      <th></th>\n",
       "      <th>CUSTOMER_SITE_ID</th>\n",
       "      <th>Total_Cases</th>\n",
       "      <th>Max_Case_Origin</th>\n",
       "      <th>Max_Case_Reason</th>\n",
       "    </tr>\n",
       "  </thead>\n",
       "  <tbody>\n",
       "    <tr>\n",
       "      <th>0</th>\n",
       "      <td>20.00</td>\n",
       "      <td>83</td>\n",
       "      <td>Email - VTI NACC</td>\n",
       "      <td>Customer Experience</td>\n",
       "    </tr>\n",
       "    <tr>\n",
       "      <th>1</th>\n",
       "      <td>36.00</td>\n",
       "      <td>2</td>\n",
       "      <td>Email - VTI NACC</td>\n",
       "      <td>Customer Experience</td>\n",
       "    </tr>\n",
       "    <tr>\n",
       "      <th>2</th>\n",
       "      <td>86.00</td>\n",
       "      <td>1</td>\n",
       "      <td>Email - VTI NACC</td>\n",
       "      <td>Customer Experience</td>\n",
       "    </tr>\n",
       "    <tr>\n",
       "      <th>3</th>\n",
       "      <td>114.00</td>\n",
       "      <td>1</td>\n",
       "      <td>Email - VTI NACC</td>\n",
       "      <td>Customer Experience</td>\n",
       "    </tr>\n",
       "    <tr>\n",
       "      <th>4</th>\n",
       "      <td>126.00</td>\n",
       "      <td>1</td>\n",
       "      <td>Phone</td>\n",
       "      <td>Customer Experience</td>\n",
       "    </tr>\n",
       "  </tbody>\n",
       "</table>\n",
       "</div>"
      ],
      "text/plain": [
       "   CUSTOMER_SITE_ID  Total_Cases   Max_Case_Origin      Max_Case_Reason\n",
       "0             20.00           83  Email - VTI NACC  Customer Experience\n",
       "1             36.00            2  Email - VTI NACC  Customer Experience\n",
       "2             86.00            1  Email - VTI NACC  Customer Experience\n",
       "3            114.00            1  Email - VTI NACC  Customer Experience\n",
       "4            126.00            1             Phone  Customer Experience"
      ]
     },
     "execution_count": 46,
     "metadata": {},
     "output_type": "execute_result"
    }
   ],
   "source": [
    "cases.head()"
   ]
  },
  {
   "cell_type": "code",
   "execution_count": 47,
   "metadata": {},
   "outputs": [
    {
     "data": {
      "text/plain": [
       "1.0"
      ]
     },
     "execution_count": 47,
     "metadata": {},
     "output_type": "execute_result"
    }
   ],
   "source": [
    "# # check all customer sites are unique\n",
    "len(cases['CUSTOMER_SITE_ID'])/len(cases['CUSTOMER_SITE_ID'].unique())"
   ]
  },
  {
   "cell_type": "markdown",
   "metadata": {},
   "source": [
    "## Install Base"
   ]
  },
  {
   "cell_type": "code",
   "execution_count": 48,
   "metadata": {},
   "outputs": [
    {
     "data": {
      "text/html": [
       "<div>\n",
       "<style scoped>\n",
       "    .dataframe tbody tr th:only-of-type {\n",
       "        vertical-align: middle;\n",
       "    }\n",
       "\n",
       "    .dataframe tbody tr th {\n",
       "        vertical-align: top;\n",
       "    }\n",
       "\n",
       "    .dataframe thead th {\n",
       "        text-align: right;\n",
       "    }\n",
       "</style>\n",
       "<table border=\"1\" class=\"dataframe\">\n",
       "  <thead>\n",
       "    <tr style=\"text-align: right;\">\n",
       "      <th></th>\n",
       "      <th>INSTANCE_ID</th>\n",
       "      <th>STATUS</th>\n",
       "      <th>INSTALL_DATE</th>\n",
       "      <th>CONTRACT_FLAG</th>\n",
       "      <th>CONTRACT_START_DATE</th>\n",
       "      <th>CONTRACT_END_DATE</th>\n",
       "      <th>DUNS_NUMBER</th>\n",
       "      <th>CUSTOMER_SITE_ID</th>\n",
       "      <th>SITE_NUMBER</th>\n",
       "      <th>SFDC_ID</th>\n",
       "      <th>PRODUCT_FAMILY</th>\n",
       "      <th>INSTANCE_LAST_UPDATE_DATE</th>\n",
       "      <th>CONTRACT_CATEGORY</th>\n",
       "    </tr>\n",
       "  </thead>\n",
       "  <tbody>\n",
       "    <tr>\n",
       "      <th>0</th>\n",
       "      <td>225594</td>\n",
       "      <td>Inactive - Unconfirmed</td>\n",
       "      <td>5/7/2004</td>\n",
       "      <td>N</td>\n",
       "      <td>NaN</td>\n",
       "      <td>NaN</td>\n",
       "      <td>137361531</td>\n",
       "      <td>10970</td>\n",
       "      <td>13140518</td>\n",
       "      <td>0018000000drGe2AAE</td>\n",
       "      <td>GRAPHICS</td>\n",
       "      <td>2/17/2004</td>\n",
       "      <td>NaN</td>\n",
       "    </tr>\n",
       "    <tr>\n",
       "      <th>1</th>\n",
       "      <td>214815</td>\n",
       "      <td>Inactive - Unconfirmed</td>\n",
       "      <td>4/16/2004</td>\n",
       "      <td>N</td>\n",
       "      <td>NaN</td>\n",
       "      <td>NaN</td>\n",
       "      <td>49061187</td>\n",
       "      <td>10983</td>\n",
       "      <td>100026717</td>\n",
       "      <td>0018000000drEebAAE</td>\n",
       "      <td>GRAPHICS</td>\n",
       "      <td>3/15/2004</td>\n",
       "      <td>NaN</td>\n",
       "    </tr>\n",
       "    <tr>\n",
       "      <th>2</th>\n",
       "      <td>159150</td>\n",
       "      <td>Inactive - Unconfirmed</td>\n",
       "      <td>4/23/2004</td>\n",
       "      <td>N</td>\n",
       "      <td>NaN</td>\n",
       "      <td>NaN</td>\n",
       "      <td>137361531</td>\n",
       "      <td>10970</td>\n",
       "      <td>13140518</td>\n",
       "      <td>0018000000drGe2AAE</td>\n",
       "      <td>GRAPHICS</td>\n",
       "      <td>4/23/2004</td>\n",
       "      <td>NaN</td>\n",
       "    </tr>\n",
       "    <tr>\n",
       "      <th>3</th>\n",
       "      <td>199246</td>\n",
       "      <td>Inactive - Unconfirmed</td>\n",
       "      <td>8/16/2004</td>\n",
       "      <td>N</td>\n",
       "      <td>NaN</td>\n",
       "      <td>NaN</td>\n",
       "      <td>85497652</td>\n",
       "      <td>10967</td>\n",
       "      <td>13140513</td>\n",
       "      <td>0018000000drGe0AAE</td>\n",
       "      <td>GRAPHICS</td>\n",
       "      <td>3/24/2004</td>\n",
       "      <td>NaN</td>\n",
       "    </tr>\n",
       "    <tr>\n",
       "      <th>4</th>\n",
       "      <td>199247</td>\n",
       "      <td>Inactive - Unconfirmed</td>\n",
       "      <td>7/23/2004</td>\n",
       "      <td>N</td>\n",
       "      <td>NaN</td>\n",
       "      <td>NaN</td>\n",
       "      <td>85497652</td>\n",
       "      <td>10967</td>\n",
       "      <td>13140513</td>\n",
       "      <td>0018000000drGe0AAE</td>\n",
       "      <td>GRAPHICS</td>\n",
       "      <td>3/24/2004</td>\n",
       "      <td>NaN</td>\n",
       "    </tr>\n",
       "  </tbody>\n",
       "</table>\n",
       "</div>"
      ],
      "text/plain": [
       "   INSTANCE_ID                  STATUS INSTALL_DATE CONTRACT_FLAG  \\\n",
       "0       225594  Inactive - Unconfirmed     5/7/2004             N   \n",
       "1       214815  Inactive - Unconfirmed    4/16/2004             N   \n",
       "2       159150  Inactive - Unconfirmed    4/23/2004             N   \n",
       "3       199246  Inactive - Unconfirmed    8/16/2004             N   \n",
       "4       199247  Inactive - Unconfirmed    7/23/2004             N   \n",
       "\n",
       "  CONTRACT_START_DATE CONTRACT_END_DATE  DUNS_NUMBER  CUSTOMER_SITE_ID  \\\n",
       "0                 NaN               NaN    137361531             10970   \n",
       "1                 NaN               NaN     49061187             10983   \n",
       "2                 NaN               NaN    137361531             10970   \n",
       "3                 NaN               NaN     85497652             10967   \n",
       "4                 NaN               NaN     85497652             10967   \n",
       "\n",
       "  SITE_NUMBER             SFDC_ID PRODUCT_FAMILY INSTANCE_LAST_UPDATE_DATE  \\\n",
       "0    13140518  0018000000drGe2AAE       GRAPHICS                 2/17/2004   \n",
       "1   100026717  0018000000drEebAAE       GRAPHICS                 3/15/2004   \n",
       "2    13140518  0018000000drGe2AAE       GRAPHICS                 4/23/2004   \n",
       "3    13140513  0018000000drGe0AAE       GRAPHICS                 3/24/2004   \n",
       "4    13140513  0018000000drGe0AAE       GRAPHICS                 3/24/2004   \n",
       "\n",
       "  CONTRACT_CATEGORY  \n",
       "0               NaN  \n",
       "1               NaN  \n",
       "2               NaN  \n",
       "3               NaN  \n",
       "4               NaN  "
      ]
     },
     "execution_count": 48,
     "metadata": {},
     "output_type": "execute_result"
    }
   ],
   "source": [
    "installbase.head()"
   ]
  },
  {
   "cell_type": "code",
   "execution_count": 49,
   "metadata": {},
   "outputs": [
    {
     "data": {
      "text/plain": [
       "(120450, 13)"
      ]
     },
     "execution_count": 49,
     "metadata": {},
     "output_type": "execute_result"
    }
   ],
   "source": [
    "installbase.shape"
   ]
  },
  {
   "cell_type": "markdown",
   "metadata": {},
   "source": [
    "### Preprocessing before aggregating"
   ]
  },
  {
   "cell_type": "code",
   "execution_count": 50,
   "metadata": {},
   "outputs": [
    {
     "data": {
      "text/plain": [
       "(120149, 13)"
      ]
     },
     "execution_count": 50,
     "metadata": {},
     "output_type": "execute_result"
    }
   ],
   "source": [
    "# check duplicates\n",
    "installbase.drop_duplicates(inplace = True)\n",
    "installbase.shape"
   ]
  },
  {
   "cell_type": "code",
   "execution_count": 51,
   "metadata": {},
   "outputs": [
    {
     "name": "stdout",
     "output_type": "stream",
     "text": [
      "<class 'pandas.core.frame.DataFrame'>\n",
      "Int64Index: 120149 entries, 0 to 120449\n",
      "Data columns (total 13 columns):\n",
      " #   Column                     Non-Null Count   Dtype \n",
      "---  ------                     --------------   ----- \n",
      " 0   INSTANCE_ID                120149 non-null  int64 \n",
      " 1   STATUS                     119629 non-null  object\n",
      " 2   INSTALL_DATE               120032 non-null  object\n",
      " 3   CONTRACT_FLAG              120149 non-null  object\n",
      " 4   CONTRACT_START_DATE        38425 non-null   object\n",
      " 5   CONTRACT_END_DATE          38425 non-null   object\n",
      " 6   DUNS_NUMBER                120149 non-null  int64 \n",
      " 7   CUSTOMER_SITE_ID           120149 non-null  int64 \n",
      " 8   SITE_NUMBER                120149 non-null  object\n",
      " 9   SFDC_ID                    120148 non-null  object\n",
      " 10  PRODUCT_FAMILY             120149 non-null  object\n",
      " 11  INSTANCE_LAST_UPDATE_DATE  120149 non-null  object\n",
      " 12  CONTRACT_CATEGORY          38425 non-null   object\n",
      "dtypes: int64(3), object(10)\n",
      "memory usage: 12.8+ MB\n"
     ]
    }
   ],
   "source": [
    "# check column names and null values\n",
    "installbase.info()"
   ]
  },
  {
   "cell_type": "code",
   "execution_count": 52,
   "metadata": {},
   "outputs": [],
   "source": [
    "# copy INSTALL_DATE for later steps\n",
    "installbase['INSTALL_DATE1'] = installbase['INSTALL_DATE']"
   ]
  },
  {
   "cell_type": "code",
   "execution_count": 53,
   "metadata": {},
   "outputs": [],
   "source": [
    "# convert date variables to datetime data type\n",
    "installbase[[\"INSTALL_DATE\",\"INSTALL_DATE1\",\"CONTRACT_START_DATE\", \"CONTRACT_END_DATE\",\"INSTANCE_LAST_UPDATE_DATE\"]] = installbase[[\"INSTALL_DATE\",\"INSTALL_DATE1\",\"CONTRACT_START_DATE\", \"CONTRACT_END_DATE\",\"INSTANCE_LAST_UPDATE_DATE\"]].apply(pd.to_datetime)"
   ]
  },
  {
   "cell_type": "code",
   "execution_count": 54,
   "metadata": {},
   "outputs": [
    {
     "name": "stdout",
     "output_type": "stream",
     "text": [
      "<class 'pandas.core.frame.DataFrame'>\n",
      "Int64Index: 120149 entries, 0 to 120449\n",
      "Data columns (total 14 columns):\n",
      " #   Column                     Non-Null Count   Dtype         \n",
      "---  ------                     --------------   -----         \n",
      " 0   INSTANCE_ID                120149 non-null  int64         \n",
      " 1   STATUS                     119629 non-null  object        \n",
      " 2   INSTALL_DATE               120032 non-null  datetime64[ns]\n",
      " 3   CONTRACT_FLAG              120149 non-null  object        \n",
      " 4   CONTRACT_START_DATE        38425 non-null   datetime64[ns]\n",
      " 5   CONTRACT_END_DATE          38425 non-null   datetime64[ns]\n",
      " 6   DUNS_NUMBER                120149 non-null  int64         \n",
      " 7   CUSTOMER_SITE_ID           120149 non-null  int64         \n",
      " 8   SITE_NUMBER                120149 non-null  object        \n",
      " 9   SFDC_ID                    120148 non-null  object        \n",
      " 10  PRODUCT_FAMILY             120149 non-null  object        \n",
      " 11  INSTANCE_LAST_UPDATE_DATE  120149 non-null  datetime64[ns]\n",
      " 12  CONTRACT_CATEGORY          38425 non-null   object        \n",
      " 13  INSTALL_DATE1              120032 non-null  datetime64[ns]\n",
      "dtypes: datetime64[ns](5), int64(3), object(6)\n",
      "memory usage: 13.7+ MB\n"
     ]
    }
   ],
   "source": [
    "# check data types\n",
    "installbase.info()"
   ]
  },
  {
   "cell_type": "code",
   "execution_count": 55,
   "metadata": {},
   "outputs": [],
   "source": [
    "# create a new column called Contract_length\n",
    "installbase['Contract_length'] = (installbase['CONTRACT_END_DATE'] - installbase['CONTRACT_START_DATE']).dt.days\n",
    "\n",
    "# fill missing value in this column using 0\n",
    "installbase['Contract_length'] = installbase['Contract_length'].fillna(0)"
   ]
  },
  {
   "cell_type": "code",
   "execution_count": 56,
   "metadata": {},
   "outputs": [
    {
     "data": {
      "text/html": [
       "<div>\n",
       "<style scoped>\n",
       "    .dataframe tbody tr th:only-of-type {\n",
       "        vertical-align: middle;\n",
       "    }\n",
       "\n",
       "    .dataframe tbody tr th {\n",
       "        vertical-align: top;\n",
       "    }\n",
       "\n",
       "    .dataframe thead th {\n",
       "        text-align: right;\n",
       "    }\n",
       "</style>\n",
       "<table border=\"1\" class=\"dataframe\">\n",
       "  <thead>\n",
       "    <tr style=\"text-align: right;\">\n",
       "      <th></th>\n",
       "      <th>STATUS</th>\n",
       "      <th>INSTALL_DATE</th>\n",
       "      <th>CONTRACT_FLAG</th>\n",
       "      <th>CUSTOMER_SITE_ID</th>\n",
       "      <th>INSTANCE_LAST_UPDATE_DATE</th>\n",
       "      <th>CONTRACT_CATEGORY</th>\n",
       "      <th>INSTALL_DATE1</th>\n",
       "      <th>Contract_length</th>\n",
       "    </tr>\n",
       "  </thead>\n",
       "  <tbody>\n",
       "    <tr>\n",
       "      <th>0</th>\n",
       "      <td>Inactive - Unconfirmed</td>\n",
       "      <td>2004-05-07</td>\n",
       "      <td>N</td>\n",
       "      <td>10970</td>\n",
       "      <td>2004-02-17</td>\n",
       "      <td>NaN</td>\n",
       "      <td>2004-05-07</td>\n",
       "      <td>0.00</td>\n",
       "    </tr>\n",
       "    <tr>\n",
       "      <th>1</th>\n",
       "      <td>Inactive - Unconfirmed</td>\n",
       "      <td>2004-04-16</td>\n",
       "      <td>N</td>\n",
       "      <td>10983</td>\n",
       "      <td>2004-03-15</td>\n",
       "      <td>NaN</td>\n",
       "      <td>2004-04-16</td>\n",
       "      <td>0.00</td>\n",
       "    </tr>\n",
       "    <tr>\n",
       "      <th>2</th>\n",
       "      <td>Inactive - Unconfirmed</td>\n",
       "      <td>2004-04-23</td>\n",
       "      <td>N</td>\n",
       "      <td>10970</td>\n",
       "      <td>2004-04-23</td>\n",
       "      <td>NaN</td>\n",
       "      <td>2004-04-23</td>\n",
       "      <td>0.00</td>\n",
       "    </tr>\n",
       "    <tr>\n",
       "      <th>3</th>\n",
       "      <td>Inactive - Unconfirmed</td>\n",
       "      <td>2004-08-16</td>\n",
       "      <td>N</td>\n",
       "      <td>10967</td>\n",
       "      <td>2004-03-24</td>\n",
       "      <td>NaN</td>\n",
       "      <td>2004-08-16</td>\n",
       "      <td>0.00</td>\n",
       "    </tr>\n",
       "    <tr>\n",
       "      <th>4</th>\n",
       "      <td>Inactive - Unconfirmed</td>\n",
       "      <td>2004-07-23</td>\n",
       "      <td>N</td>\n",
       "      <td>10967</td>\n",
       "      <td>2004-03-24</td>\n",
       "      <td>NaN</td>\n",
       "      <td>2004-07-23</td>\n",
       "      <td>0.00</td>\n",
       "    </tr>\n",
       "  </tbody>\n",
       "</table>\n",
       "</div>"
      ],
      "text/plain": [
       "                   STATUS INSTALL_DATE CONTRACT_FLAG  CUSTOMER_SITE_ID  \\\n",
       "0  Inactive - Unconfirmed   2004-05-07             N             10970   \n",
       "1  Inactive - Unconfirmed   2004-04-16             N             10983   \n",
       "2  Inactive - Unconfirmed   2004-04-23             N             10970   \n",
       "3  Inactive - Unconfirmed   2004-08-16             N             10967   \n",
       "4  Inactive - Unconfirmed   2004-07-23             N             10967   \n",
       "\n",
       "  INSTANCE_LAST_UPDATE_DATE CONTRACT_CATEGORY INSTALL_DATE1  Contract_length  \n",
       "0                2004-02-17               NaN    2004-05-07             0.00  \n",
       "1                2004-03-15               NaN    2004-04-16             0.00  \n",
       "2                2004-04-23               NaN    2004-04-23             0.00  \n",
       "3                2004-03-24               NaN    2004-08-16             0.00  \n",
       "4                2004-03-24               NaN    2004-07-23             0.00  "
      ]
     },
     "execution_count": 56,
     "metadata": {},
     "output_type": "execute_result"
    }
   ],
   "source": [
    "# drop unnecessary columns\n",
    "installbase.drop(['INSTANCE_ID','SFDC_ID','SITE_NUMBER','DUNS_NUMBER','PRODUCT_FAMILY','CONTRACT_START_DATE','CONTRACT_END_DATE'], \n",
    "                 axis = 1, inplace = True)\n",
    "installbase.head()"
   ]
  },
  {
   "cell_type": "code",
   "execution_count": 57,
   "metadata": {},
   "outputs": [
    {
     "name": "stdout",
     "output_type": "stream",
     "text": [
      "<class 'pandas.core.frame.DataFrame'>\n",
      "Int64Index: 120149 entries, 0 to 120449\n",
      "Data columns (total 8 columns):\n",
      " #   Column                     Non-Null Count   Dtype         \n",
      "---  ------                     --------------   -----         \n",
      " 0   STATUS                     119629 non-null  object        \n",
      " 1   INSTALL_DATE               120032 non-null  datetime64[ns]\n",
      " 2   CONTRACT_FLAG              120149 non-null  object        \n",
      " 3   CUSTOMER_SITE_ID           120149 non-null  int64         \n",
      " 4   INSTANCE_LAST_UPDATE_DATE  120149 non-null  datetime64[ns]\n",
      " 5   CONTRACT_CATEGORY          38425 non-null   object        \n",
      " 6   INSTALL_DATE1              120032 non-null  datetime64[ns]\n",
      " 7   Contract_length            120149 non-null  float64       \n",
      "dtypes: datetime64[ns](3), float64(1), int64(1), object(3)\n",
      "memory usage: 8.2+ MB\n"
     ]
    }
   ],
   "source": [
    "# check column names and null values\n",
    "installbase.info()"
   ]
  },
  {
   "cell_type": "code",
   "execution_count": 58,
   "metadata": {},
   "outputs": [
    {
     "data": {
      "text/plain": [
       "N    81724\n",
       "Y    38425\n",
       "Name: CONTRACT_FLAG, dtype: int64"
      ]
     },
     "execution_count": 58,
     "metadata": {},
     "output_type": "execute_result"
    }
   ],
   "source": [
    "installbase['CONTRACT_FLAG'].value_counts()"
   ]
  },
  {
   "cell_type": "code",
   "execution_count": 59,
   "metadata": {},
   "outputs": [],
   "source": [
    "# substitute Y/N with 1/0 in CONTRACT_FLAG\n",
    "installbase['CONTRACT_FLAG'] = installbase['CONTRACT_FLAG'].apply(lambda x: 1 if x=='Y' else 0)"
   ]
  },
  {
   "cell_type": "code",
   "execution_count": 60,
   "metadata": {},
   "outputs": [
    {
     "data": {
      "text/html": [
       "<div>\n",
       "<style scoped>\n",
       "    .dataframe tbody tr th:only-of-type {\n",
       "        vertical-align: middle;\n",
       "    }\n",
       "\n",
       "    .dataframe tbody tr th {\n",
       "        vertical-align: top;\n",
       "    }\n",
       "\n",
       "    .dataframe thead th {\n",
       "        text-align: right;\n",
       "    }\n",
       "</style>\n",
       "<table border=\"1\" class=\"dataframe\">\n",
       "  <thead>\n",
       "    <tr style=\"text-align: right;\">\n",
       "      <th></th>\n",
       "      <th>STATUS</th>\n",
       "      <th>INSTALL_DATE</th>\n",
       "      <th>CONTRACT_FLAG</th>\n",
       "      <th>CUSTOMER_SITE_ID</th>\n",
       "      <th>INSTANCE_LAST_UPDATE_DATE</th>\n",
       "      <th>CONTRACT_CATEGORY</th>\n",
       "      <th>INSTALL_DATE1</th>\n",
       "      <th>Contract_length</th>\n",
       "    </tr>\n",
       "  </thead>\n",
       "  <tbody>\n",
       "    <tr>\n",
       "      <th>0</th>\n",
       "      <td>Inactive - Unconfirmed</td>\n",
       "      <td>2004-05-07</td>\n",
       "      <td>0</td>\n",
       "      <td>10970</td>\n",
       "      <td>2004-02-17</td>\n",
       "      <td>NaN</td>\n",
       "      <td>2004-05-07</td>\n",
       "      <td>0.00</td>\n",
       "    </tr>\n",
       "    <tr>\n",
       "      <th>1</th>\n",
       "      <td>Inactive - Unconfirmed</td>\n",
       "      <td>2004-04-16</td>\n",
       "      <td>0</td>\n",
       "      <td>10983</td>\n",
       "      <td>2004-03-15</td>\n",
       "      <td>NaN</td>\n",
       "      <td>2004-04-16</td>\n",
       "      <td>0.00</td>\n",
       "    </tr>\n",
       "    <tr>\n",
       "      <th>2</th>\n",
       "      <td>Inactive - Unconfirmed</td>\n",
       "      <td>2004-04-23</td>\n",
       "      <td>0</td>\n",
       "      <td>10970</td>\n",
       "      <td>2004-04-23</td>\n",
       "      <td>NaN</td>\n",
       "      <td>2004-04-23</td>\n",
       "      <td>0.00</td>\n",
       "    </tr>\n",
       "    <tr>\n",
       "      <th>3</th>\n",
       "      <td>Inactive - Unconfirmed</td>\n",
       "      <td>2004-08-16</td>\n",
       "      <td>0</td>\n",
       "      <td>10967</td>\n",
       "      <td>2004-03-24</td>\n",
       "      <td>NaN</td>\n",
       "      <td>2004-08-16</td>\n",
       "      <td>0.00</td>\n",
       "    </tr>\n",
       "    <tr>\n",
       "      <th>4</th>\n",
       "      <td>Inactive - Unconfirmed</td>\n",
       "      <td>2004-07-23</td>\n",
       "      <td>0</td>\n",
       "      <td>10967</td>\n",
       "      <td>2004-03-24</td>\n",
       "      <td>NaN</td>\n",
       "      <td>2004-07-23</td>\n",
       "      <td>0.00</td>\n",
       "    </tr>\n",
       "  </tbody>\n",
       "</table>\n",
       "</div>"
      ],
      "text/plain": [
       "                   STATUS INSTALL_DATE  CONTRACT_FLAG  CUSTOMER_SITE_ID  \\\n",
       "0  Inactive - Unconfirmed   2004-05-07              0             10970   \n",
       "1  Inactive - Unconfirmed   2004-04-16              0             10983   \n",
       "2  Inactive - Unconfirmed   2004-04-23              0             10970   \n",
       "3  Inactive - Unconfirmed   2004-08-16              0             10967   \n",
       "4  Inactive - Unconfirmed   2004-07-23              0             10967   \n",
       "\n",
       "  INSTANCE_LAST_UPDATE_DATE CONTRACT_CATEGORY INSTALL_DATE1  Contract_length  \n",
       "0                2004-02-17               NaN    2004-05-07             0.00  \n",
       "1                2004-03-15               NaN    2004-04-16             0.00  \n",
       "2                2004-04-23               NaN    2004-04-23             0.00  \n",
       "3                2004-03-24               NaN    2004-08-16             0.00  \n",
       "4                2004-03-24               NaN    2004-07-23             0.00  "
      ]
     },
     "execution_count": 60,
     "metadata": {},
     "output_type": "execute_result"
    }
   ],
   "source": [
    "installbase.head()"
   ]
  },
  {
   "cell_type": "code",
   "execution_count": 61,
   "metadata": {},
   "outputs": [
    {
     "name": "stdout",
     "output_type": "stream",
     "text": [
      "<class 'pandas.core.frame.DataFrame'>\n",
      "Int64Index: 120149 entries, 0 to 120449\n",
      "Data columns (total 8 columns):\n",
      " #   Column                     Non-Null Count   Dtype         \n",
      "---  ------                     --------------   -----         \n",
      " 0   STATUS                     119629 non-null  object        \n",
      " 1   INSTALL_DATE               120032 non-null  datetime64[ns]\n",
      " 2   CONTRACT_FLAG              120149 non-null  int64         \n",
      " 3   CUSTOMER_SITE_ID           120149 non-null  int64         \n",
      " 4   INSTANCE_LAST_UPDATE_DATE  120149 non-null  datetime64[ns]\n",
      " 5   CONTRACT_CATEGORY          38425 non-null   object        \n",
      " 6   INSTALL_DATE1              120032 non-null  datetime64[ns]\n",
      " 7   Contract_length            120149 non-null  float64       \n",
      "dtypes: datetime64[ns](3), float64(1), int64(2), object(2)\n",
      "memory usage: 8.2+ MB\n"
     ]
    }
   ],
   "source": [
    "# check column names and null values\n",
    "installbase.info()"
   ]
  },
  {
   "cell_type": "code",
   "execution_count": 62,
   "metadata": {},
   "outputs": [],
   "source": [
    "# drop rows with null values in STATUS, INSTALL_DATE\n",
    "installbase = installbase.dropna(axis = 0, subset = ['STATUS'])\n",
    "installbase = installbase.dropna(axis = 0, subset = ['INSTALL_DATE'])"
   ]
  },
  {
   "cell_type": "code",
   "execution_count": 63,
   "metadata": {},
   "outputs": [
    {
     "name": "stdout",
     "output_type": "stream",
     "text": [
      "<class 'pandas.core.frame.DataFrame'>\n",
      "Int64Index: 119512 entries, 0 to 120449\n",
      "Data columns (total 8 columns):\n",
      " #   Column                     Non-Null Count   Dtype         \n",
      "---  ------                     --------------   -----         \n",
      " 0   STATUS                     119512 non-null  object        \n",
      " 1   INSTALL_DATE               119512 non-null  datetime64[ns]\n",
      " 2   CONTRACT_FLAG              119512 non-null  int64         \n",
      " 3   CUSTOMER_SITE_ID           119512 non-null  int64         \n",
      " 4   INSTANCE_LAST_UPDATE_DATE  119512 non-null  datetime64[ns]\n",
      " 5   CONTRACT_CATEGORY          38348 non-null   object        \n",
      " 6   INSTALL_DATE1              119512 non-null  datetime64[ns]\n",
      " 7   Contract_length            119512 non-null  float64       \n",
      "dtypes: datetime64[ns](3), float64(1), int64(2), object(2)\n",
      "memory usage: 8.2+ MB\n"
     ]
    }
   ],
   "source": [
    "# check column names and null values\n",
    "installbase.info()"
   ]
  },
  {
   "cell_type": "code",
   "execution_count": 64,
   "metadata": {},
   "outputs": [
    {
     "data": {
      "text/plain": [
       "FSMA          33496\n",
       "Full Care      4789\n",
       "Supportive       55\n",
       "WFC               8\n",
       "Name: CONTRACT_CATEGORY, dtype: int64"
      ]
     },
     "execution_count": 64,
     "metadata": {},
     "output_type": "execute_result"
    }
   ],
   "source": [
    "installbase.CONTRACT_CATEGORY.value_counts()"
   ]
  },
  {
   "cell_type": "code",
   "execution_count": 65,
   "metadata": {},
   "outputs": [],
   "source": [
    "# fill in null values in CONTRACT_CATEGORY\n",
    "installbase['CONTRACT_CATEGORY'] =  installbase['CONTRACT_CATEGORY'].fillna('No Contract')"
   ]
  },
  {
   "cell_type": "code",
   "execution_count": 66,
   "metadata": {},
   "outputs": [
    {
     "name": "stdout",
     "output_type": "stream",
     "text": [
      "<class 'pandas.core.frame.DataFrame'>\n",
      "Int64Index: 119512 entries, 0 to 120449\n",
      "Data columns (total 8 columns):\n",
      " #   Column                     Non-Null Count   Dtype         \n",
      "---  ------                     --------------   -----         \n",
      " 0   STATUS                     119512 non-null  object        \n",
      " 1   INSTALL_DATE               119512 non-null  datetime64[ns]\n",
      " 2   CONTRACT_FLAG              119512 non-null  int64         \n",
      " 3   CUSTOMER_SITE_ID           119512 non-null  int64         \n",
      " 4   INSTANCE_LAST_UPDATE_DATE  119512 non-null  datetime64[ns]\n",
      " 5   CONTRACT_CATEGORY          119512 non-null  object        \n",
      " 6   INSTALL_DATE1              119512 non-null  datetime64[ns]\n",
      " 7   Contract_length            119512 non-null  float64       \n",
      "dtypes: datetime64[ns](3), float64(1), int64(2), object(2)\n",
      "memory usage: 8.2+ MB\n"
     ]
    }
   ],
   "source": [
    "# check column names and null values\n",
    "installbase.info()"
   ]
  },
  {
   "cell_type": "code",
   "execution_count": 67,
   "metadata": {},
   "outputs": [
    {
     "data": {
      "text/html": [
       "<div>\n",
       "<style scoped>\n",
       "    .dataframe tbody tr th:only-of-type {\n",
       "        vertical-align: middle;\n",
       "    }\n",
       "\n",
       "    .dataframe tbody tr th {\n",
       "        vertical-align: top;\n",
       "    }\n",
       "\n",
       "    .dataframe thead th {\n",
       "        text-align: right;\n",
       "    }\n",
       "</style>\n",
       "<table border=\"1\" class=\"dataframe\">\n",
       "  <thead>\n",
       "    <tr style=\"text-align: right;\">\n",
       "      <th></th>\n",
       "      <th>STATUS</th>\n",
       "      <th>INSTALL_DATE</th>\n",
       "      <th>CONTRACT_FLAG</th>\n",
       "      <th>CUSTOMER_SITE_ID</th>\n",
       "      <th>INSTANCE_LAST_UPDATE_DATE</th>\n",
       "      <th>CONTRACT_CATEGORY</th>\n",
       "      <th>INSTALL_DATE1</th>\n",
       "      <th>Contract_length</th>\n",
       "    </tr>\n",
       "  </thead>\n",
       "  <tbody>\n",
       "    <tr>\n",
       "      <th>0</th>\n",
       "      <td>Inactive - Unconfirmed</td>\n",
       "      <td>2004-05-07</td>\n",
       "      <td>0</td>\n",
       "      <td>10970</td>\n",
       "      <td>2004-02-17</td>\n",
       "      <td>No Contract</td>\n",
       "      <td>2004-05-07</td>\n",
       "      <td>0.00</td>\n",
       "    </tr>\n",
       "    <tr>\n",
       "      <th>1</th>\n",
       "      <td>Inactive - Unconfirmed</td>\n",
       "      <td>2004-04-16</td>\n",
       "      <td>0</td>\n",
       "      <td>10983</td>\n",
       "      <td>2004-03-15</td>\n",
       "      <td>No Contract</td>\n",
       "      <td>2004-04-16</td>\n",
       "      <td>0.00</td>\n",
       "    </tr>\n",
       "    <tr>\n",
       "      <th>2</th>\n",
       "      <td>Inactive - Unconfirmed</td>\n",
       "      <td>2004-04-23</td>\n",
       "      <td>0</td>\n",
       "      <td>10970</td>\n",
       "      <td>2004-04-23</td>\n",
       "      <td>No Contract</td>\n",
       "      <td>2004-04-23</td>\n",
       "      <td>0.00</td>\n",
       "    </tr>\n",
       "    <tr>\n",
       "      <th>3</th>\n",
       "      <td>Inactive - Unconfirmed</td>\n",
       "      <td>2004-08-16</td>\n",
       "      <td>0</td>\n",
       "      <td>10967</td>\n",
       "      <td>2004-03-24</td>\n",
       "      <td>No Contract</td>\n",
       "      <td>2004-08-16</td>\n",
       "      <td>0.00</td>\n",
       "    </tr>\n",
       "    <tr>\n",
       "      <th>4</th>\n",
       "      <td>Inactive - Unconfirmed</td>\n",
       "      <td>2004-07-23</td>\n",
       "      <td>0</td>\n",
       "      <td>10967</td>\n",
       "      <td>2004-03-24</td>\n",
       "      <td>No Contract</td>\n",
       "      <td>2004-07-23</td>\n",
       "      <td>0.00</td>\n",
       "    </tr>\n",
       "  </tbody>\n",
       "</table>\n",
       "</div>"
      ],
      "text/plain": [
       "                   STATUS INSTALL_DATE  CONTRACT_FLAG  CUSTOMER_SITE_ID  \\\n",
       "0  Inactive - Unconfirmed   2004-05-07              0             10970   \n",
       "1  Inactive - Unconfirmed   2004-04-16              0             10983   \n",
       "2  Inactive - Unconfirmed   2004-04-23              0             10970   \n",
       "3  Inactive - Unconfirmed   2004-08-16              0             10967   \n",
       "4  Inactive - Unconfirmed   2004-07-23              0             10967   \n",
       "\n",
       "  INSTANCE_LAST_UPDATE_DATE CONTRACT_CATEGORY INSTALL_DATE1  Contract_length  \n",
       "0                2004-02-17       No Contract    2004-05-07             0.00  \n",
       "1                2004-03-15       No Contract    2004-04-16             0.00  \n",
       "2                2004-04-23       No Contract    2004-04-23             0.00  \n",
       "3                2004-03-24       No Contract    2004-08-16             0.00  \n",
       "4                2004-03-24       No Contract    2004-07-23             0.00  "
      ]
     },
     "execution_count": 67,
     "metadata": {},
     "output_type": "execute_result"
    }
   ],
   "source": [
    "installbase.head()"
   ]
  },
  {
   "cell_type": "markdown",
   "metadata": {},
   "source": [
    "### Aggregating"
   ]
  },
  {
   "cell_type": "code",
   "execution_count": 68,
   "metadata": {},
   "outputs": [],
   "source": [
    "# copy columns to be aggregated\n",
    "installbase2 = installbase[['INSTALL_DATE','INSTALL_DATE1','CONTRACT_FLAG','CUSTOMER_SITE_ID',\n",
    "                            'INSTANCE_LAST_UPDATE_DATE','Contract_length', 'CONTRACT_CATEGORY']]"
   ]
  },
  {
   "cell_type": "code",
   "execution_count": 69,
   "metadata": {},
   "outputs": [
    {
     "data": {
      "text/html": [
       "<div>\n",
       "<style scoped>\n",
       "    .dataframe tbody tr th:only-of-type {\n",
       "        vertical-align: middle;\n",
       "    }\n",
       "\n",
       "    .dataframe tbody tr th {\n",
       "        vertical-align: top;\n",
       "    }\n",
       "\n",
       "    .dataframe thead th {\n",
       "        text-align: right;\n",
       "    }\n",
       "</style>\n",
       "<table border=\"1\" class=\"dataframe\">\n",
       "  <thead>\n",
       "    <tr style=\"text-align: right;\">\n",
       "      <th></th>\n",
       "      <th>INSTALL_DATE</th>\n",
       "      <th>INSTALL_DATE1</th>\n",
       "      <th>CONTRACT_FLAG</th>\n",
       "      <th>CUSTOMER_SITE_ID</th>\n",
       "      <th>INSTANCE_LAST_UPDATE_DATE</th>\n",
       "      <th>Contract_length</th>\n",
       "      <th>CONTRACT_CATEGORY</th>\n",
       "    </tr>\n",
       "  </thead>\n",
       "  <tbody>\n",
       "    <tr>\n",
       "      <th>0</th>\n",
       "      <td>2004-05-07</td>\n",
       "      <td>2004-05-07</td>\n",
       "      <td>0</td>\n",
       "      <td>10970</td>\n",
       "      <td>2004-02-17</td>\n",
       "      <td>0.00</td>\n",
       "      <td>No Contract</td>\n",
       "    </tr>\n",
       "    <tr>\n",
       "      <th>1</th>\n",
       "      <td>2004-04-16</td>\n",
       "      <td>2004-04-16</td>\n",
       "      <td>0</td>\n",
       "      <td>10983</td>\n",
       "      <td>2004-03-15</td>\n",
       "      <td>0.00</td>\n",
       "      <td>No Contract</td>\n",
       "    </tr>\n",
       "    <tr>\n",
       "      <th>2</th>\n",
       "      <td>2004-04-23</td>\n",
       "      <td>2004-04-23</td>\n",
       "      <td>0</td>\n",
       "      <td>10970</td>\n",
       "      <td>2004-04-23</td>\n",
       "      <td>0.00</td>\n",
       "      <td>No Contract</td>\n",
       "    </tr>\n",
       "    <tr>\n",
       "      <th>3</th>\n",
       "      <td>2004-08-16</td>\n",
       "      <td>2004-08-16</td>\n",
       "      <td>0</td>\n",
       "      <td>10967</td>\n",
       "      <td>2004-03-24</td>\n",
       "      <td>0.00</td>\n",
       "      <td>No Contract</td>\n",
       "    </tr>\n",
       "    <tr>\n",
       "      <th>4</th>\n",
       "      <td>2004-07-23</td>\n",
       "      <td>2004-07-23</td>\n",
       "      <td>0</td>\n",
       "      <td>10967</td>\n",
       "      <td>2004-03-24</td>\n",
       "      <td>0.00</td>\n",
       "      <td>No Contract</td>\n",
       "    </tr>\n",
       "  </tbody>\n",
       "</table>\n",
       "</div>"
      ],
      "text/plain": [
       "  INSTALL_DATE INSTALL_DATE1  CONTRACT_FLAG  CUSTOMER_SITE_ID  \\\n",
       "0   2004-05-07    2004-05-07              0             10970   \n",
       "1   2004-04-16    2004-04-16              0             10983   \n",
       "2   2004-04-23    2004-04-23              0             10970   \n",
       "3   2004-08-16    2004-08-16              0             10967   \n",
       "4   2004-07-23    2004-07-23              0             10967   \n",
       "\n",
       "  INSTANCE_LAST_UPDATE_DATE  Contract_length CONTRACT_CATEGORY  \n",
       "0                2004-02-17             0.00       No Contract  \n",
       "1                2004-03-15             0.00       No Contract  \n",
       "2                2004-04-23             0.00       No Contract  \n",
       "3                2004-03-24             0.00       No Contract  \n",
       "4                2004-03-24             0.00       No Contract  "
      ]
     },
     "execution_count": 69,
     "metadata": {},
     "output_type": "execute_result"
    }
   ],
   "source": [
    "installbase2.head()"
   ]
  },
  {
   "cell_type": "code",
   "execution_count": 70,
   "metadata": {},
   "outputs": [
    {
     "data": {
      "text/html": [
       "<div>\n",
       "<style scoped>\n",
       "    .dataframe tbody tr th:only-of-type {\n",
       "        vertical-align: middle;\n",
       "    }\n",
       "\n",
       "    .dataframe tbody tr th {\n",
       "        vertical-align: top;\n",
       "    }\n",
       "\n",
       "    .dataframe thead th {\n",
       "        text-align: right;\n",
       "    }\n",
       "</style>\n",
       "<table border=\"1\" class=\"dataframe\">\n",
       "  <thead>\n",
       "    <tr style=\"text-align: right;\">\n",
       "      <th></th>\n",
       "      <th>CUSTOMER_SITE_ID</th>\n",
       "      <th>Num_of_Install_Bases</th>\n",
       "    </tr>\n",
       "  </thead>\n",
       "  <tbody>\n",
       "    <tr>\n",
       "      <th>0</th>\n",
       "      <td>24</td>\n",
       "      <td>5</td>\n",
       "    </tr>\n",
       "    <tr>\n",
       "      <th>1</th>\n",
       "      <td>36</td>\n",
       "      <td>43</td>\n",
       "    </tr>\n",
       "    <tr>\n",
       "      <th>2</th>\n",
       "      <td>85</td>\n",
       "      <td>1</td>\n",
       "    </tr>\n",
       "    <tr>\n",
       "      <th>3</th>\n",
       "      <td>86</td>\n",
       "      <td>10</td>\n",
       "    </tr>\n",
       "    <tr>\n",
       "      <th>4</th>\n",
       "      <td>90</td>\n",
       "      <td>6</td>\n",
       "    </tr>\n",
       "  </tbody>\n",
       "</table>\n",
       "</div>"
      ],
      "text/plain": [
       "   CUSTOMER_SITE_ID  Num_of_Install_Bases\n",
       "0                24                     5\n",
       "1                36                    43\n",
       "2                85                     1\n",
       "3                86                    10\n",
       "4                90                     6"
      ]
     },
     "execution_count": 70,
     "metadata": {},
     "output_type": "execute_result"
    }
   ],
   "source": [
    "# count number of install bases\n",
    "installbase3 = installbase[['CUSTOMER_SITE_ID']]\n",
    "installbase3 = installbase3.groupby('CUSTOMER_SITE_ID').size().reset_index()\n",
    "installbase3 = installbase3.rename(columns = {0: 'Num_of_Install_Bases'})\n",
    "installbase3.head()"
   ]
  },
  {
   "cell_type": "code",
   "execution_count": 71,
   "metadata": {},
   "outputs": [
    {
     "name": "stderr",
     "output_type": "stream",
     "text": [
      "C:\\Users\\jayan\\AppData\\Local\\Continuum\\anaconda3\\lib\\site-packages\\ipykernel_launcher.py:3: SettingWithCopyWarning: \n",
      "A value is trying to be set on a copy of a slice from a DataFrame.\n",
      "Try using .loc[row_indexer,col_indexer] = value instead\n",
      "\n",
      "See the caveats in the documentation: https://pandas.pydata.org/pandas-docs/stable/user_guide/indexing.html#returning-a-view-versus-a-copy\n",
      "  This is separate from the ipykernel package so we can avoid doing imports until\n"
     ]
    },
    {
     "data": {
      "text/html": [
       "<div>\n",
       "<style scoped>\n",
       "    .dataframe tbody tr th:only-of-type {\n",
       "        vertical-align: middle;\n",
       "    }\n",
       "\n",
       "    .dataframe tbody tr th {\n",
       "        vertical-align: top;\n",
       "    }\n",
       "\n",
       "    .dataframe thead th {\n",
       "        text-align: right;\n",
       "    }\n",
       "</style>\n",
       "<table border=\"1\" class=\"dataframe\">\n",
       "  <thead>\n",
       "    <tr style=\"text-align: right;\">\n",
       "      <th></th>\n",
       "      <th>CUSTOMER_SITE_ID</th>\n",
       "      <th>Total_Contracts</th>\n",
       "      <th>Contract_length</th>\n",
       "    </tr>\n",
       "  </thead>\n",
       "  <tbody>\n",
       "    <tr>\n",
       "      <th>0</th>\n",
       "      <td>24</td>\n",
       "      <td>0</td>\n",
       "      <td>0.00</td>\n",
       "    </tr>\n",
       "    <tr>\n",
       "      <th>1</th>\n",
       "      <td>36</td>\n",
       "      <td>11</td>\n",
       "      <td>625.00</td>\n",
       "    </tr>\n",
       "    <tr>\n",
       "      <th>2</th>\n",
       "      <td>85</td>\n",
       "      <td>0</td>\n",
       "      <td>0.00</td>\n",
       "    </tr>\n",
       "    <tr>\n",
       "      <th>3</th>\n",
       "      <td>86</td>\n",
       "      <td>4</td>\n",
       "      <td>1,095.00</td>\n",
       "    </tr>\n",
       "    <tr>\n",
       "      <th>4</th>\n",
       "      <td>90</td>\n",
       "      <td>6</td>\n",
       "      <td>1,003.00</td>\n",
       "    </tr>\n",
       "  </tbody>\n",
       "</table>\n",
       "</div>"
      ],
      "text/plain": [
       "   CUSTOMER_SITE_ID  Total_Contracts  Contract_length\n",
       "0                24                0             0.00\n",
       "1                36               11           625.00\n",
       "2                85                0             0.00\n",
       "3                86                4         1,095.00\n",
       "4                90                6         1,003.00"
      ]
     },
     "execution_count": 71,
     "metadata": {},
     "output_type": "execute_result"
    }
   ],
   "source": [
    "# aggregate CONTRACT_FLAG, Contract_length, INSTANCE_LAST_UPDATE_DATE, INSTALL_DATE\n",
    "\n",
    "installbase2['Contract_length'] = installbase2['Contract_length'].replace(0, np.nan)\n",
    "installbase2 = installbase2.groupby('CUSTOMER_SITE_ID').agg({'CONTRACT_FLAG': 'sum',\n",
    "                                                             'Contract_length': 'mean',     \n",
    "}).reset_index()\n",
    "# rename columns\n",
    "installbase2 = installbase2.rename(columns = {\"CONTRACT_FLAG\": 'Total_Contracts'})\n",
    "\n",
    "installbase2['Contract_length'] = installbase2['Contract_length'].replace(np.nan,0)\n",
    "installbase2.head()"
   ]
  },
  {
   "cell_type": "code",
   "execution_count": 72,
   "metadata": {},
   "outputs": [
    {
     "data": {
      "text/plain": [
       "1.0"
      ]
     },
     "execution_count": 72,
     "metadata": {},
     "output_type": "execute_result"
    }
   ],
   "source": [
    "# check all customer sites are unique\n",
    "len(installbase2['CUSTOMER_SITE_ID'])/len(installbase2['CUSTOMER_SITE_ID'].unique())"
   ]
  },
  {
   "cell_type": "code",
   "execution_count": 73,
   "metadata": {},
   "outputs": [
    {
     "data": {
      "text/html": [
       "<div>\n",
       "<style scoped>\n",
       "    .dataframe tbody tr th:only-of-type {\n",
       "        vertical-align: middle;\n",
       "    }\n",
       "\n",
       "    .dataframe tbody tr th {\n",
       "        vertical-align: top;\n",
       "    }\n",
       "\n",
       "    .dataframe thead th {\n",
       "        text-align: right;\n",
       "    }\n",
       "</style>\n",
       "<table border=\"1\" class=\"dataframe\">\n",
       "  <thead>\n",
       "    <tr style=\"text-align: right;\">\n",
       "      <th></th>\n",
       "      <th>CUSTOMER_SITE_ID</th>\n",
       "      <th>Total_Contracts</th>\n",
       "      <th>Contract_length</th>\n",
       "      <th>Num_of_Install_Bases</th>\n",
       "    </tr>\n",
       "  </thead>\n",
       "  <tbody>\n",
       "    <tr>\n",
       "      <th>0</th>\n",
       "      <td>24</td>\n",
       "      <td>0</td>\n",
       "      <td>0.00</td>\n",
       "      <td>5</td>\n",
       "    </tr>\n",
       "    <tr>\n",
       "      <th>1</th>\n",
       "      <td>36</td>\n",
       "      <td>11</td>\n",
       "      <td>625.00</td>\n",
       "      <td>43</td>\n",
       "    </tr>\n",
       "    <tr>\n",
       "      <th>2</th>\n",
       "      <td>85</td>\n",
       "      <td>0</td>\n",
       "      <td>0.00</td>\n",
       "      <td>1</td>\n",
       "    </tr>\n",
       "    <tr>\n",
       "      <th>3</th>\n",
       "      <td>86</td>\n",
       "      <td>4</td>\n",
       "      <td>1,095.00</td>\n",
       "      <td>10</td>\n",
       "    </tr>\n",
       "    <tr>\n",
       "      <th>4</th>\n",
       "      <td>90</td>\n",
       "      <td>6</td>\n",
       "      <td>1,003.00</td>\n",
       "      <td>6</td>\n",
       "    </tr>\n",
       "  </tbody>\n",
       "</table>\n",
       "</div>"
      ],
      "text/plain": [
       "   CUSTOMER_SITE_ID  Total_Contracts  Contract_length  Num_of_Install_Bases\n",
       "0                24                0             0.00                     5\n",
       "1                36               11           625.00                    43\n",
       "2                85                0             0.00                     1\n",
       "3                86                4         1,095.00                    10\n",
       "4                90                6         1,003.00                     6"
      ]
     },
     "execution_count": 73,
     "metadata": {},
     "output_type": "execute_result"
    }
   ],
   "source": [
    "# merge the above 2 tables\n",
    "installbase4 = pd.merge(installbase2, installbase3, how = 'inner')\n",
    "installbase4.head()"
   ]
  },
  {
   "cell_type": "code",
   "execution_count": 74,
   "metadata": {},
   "outputs": [
    {
     "data": {
      "text/html": [
       "<div>\n",
       "<style scoped>\n",
       "    .dataframe tbody tr th:only-of-type {\n",
       "        vertical-align: middle;\n",
       "    }\n",
       "\n",
       "    .dataframe tbody tr th {\n",
       "        vertical-align: top;\n",
       "    }\n",
       "\n",
       "    .dataframe thead th {\n",
       "        text-align: right;\n",
       "    }\n",
       "</style>\n",
       "<table border=\"1\" class=\"dataframe\">\n",
       "  <thead>\n",
       "    <tr style=\"text-align: right;\">\n",
       "      <th></th>\n",
       "      <th>CUSTOMER_SITE_ID</th>\n",
       "      <th>Num_of_Active_Install_Bases</th>\n",
       "    </tr>\n",
       "  </thead>\n",
       "  <tbody>\n",
       "    <tr>\n",
       "      <th>0</th>\n",
       "      <td>24</td>\n",
       "      <td>5</td>\n",
       "    </tr>\n",
       "    <tr>\n",
       "      <th>1</th>\n",
       "      <td>36</td>\n",
       "      <td>39</td>\n",
       "    </tr>\n",
       "    <tr>\n",
       "      <th>2</th>\n",
       "      <td>85</td>\n",
       "      <td>0</td>\n",
       "    </tr>\n",
       "    <tr>\n",
       "      <th>3</th>\n",
       "      <td>86</td>\n",
       "      <td>6</td>\n",
       "    </tr>\n",
       "    <tr>\n",
       "      <th>4</th>\n",
       "      <td>90</td>\n",
       "      <td>6</td>\n",
       "    </tr>\n",
       "  </tbody>\n",
       "</table>\n",
       "</div>"
      ],
      "text/plain": [
       "   CUSTOMER_SITE_ID  Num_of_Active_Install_Bases\n",
       "0                24                            5\n",
       "1                36                           39\n",
       "2                85                            0\n",
       "3                86                            6\n",
       "4                90                            6"
      ]
     },
     "execution_count": 74,
     "metadata": {},
     "output_type": "execute_result"
    }
   ],
   "source": [
    "# aggregate STATUS\n",
    "installbase['Num_of_Active_Install_Bases'] = installbase['STATUS'].map({'Inactive - Unconfirmed': 0,\n",
    "                                                       'Inactive - Confirmed': 0,\n",
    "                                                       'Active - Unconfirmed': 1,\n",
    "                                                       'Active - Confirmed': 1})\n",
    "installbase5 = installbase.groupby('CUSTOMER_SITE_ID')['Num_of_Active_Install_Bases'].sum().reset_index()\n",
    "installbase5.head()"
   ]
  },
  {
   "cell_type": "code",
   "execution_count": 75,
   "metadata": {},
   "outputs": [
    {
     "data": {
      "text/html": [
       "<div>\n",
       "<style scoped>\n",
       "    .dataframe tbody tr th:only-of-type {\n",
       "        vertical-align: middle;\n",
       "    }\n",
       "\n",
       "    .dataframe tbody tr th {\n",
       "        vertical-align: top;\n",
       "    }\n",
       "\n",
       "    .dataframe thead th {\n",
       "        text-align: right;\n",
       "    }\n",
       "</style>\n",
       "<table border=\"1\" class=\"dataframe\">\n",
       "  <thead>\n",
       "    <tr style=\"text-align: right;\">\n",
       "      <th></th>\n",
       "      <th>CUSTOMER_SITE_ID</th>\n",
       "      <th>Contract_Category</th>\n",
       "    </tr>\n",
       "  </thead>\n",
       "  <tbody>\n",
       "    <tr>\n",
       "      <th>0</th>\n",
       "      <td>24</td>\n",
       "      <td>No Contract</td>\n",
       "    </tr>\n",
       "    <tr>\n",
       "      <th>1</th>\n",
       "      <td>36</td>\n",
       "      <td>No Contract</td>\n",
       "    </tr>\n",
       "    <tr>\n",
       "      <th>2</th>\n",
       "      <td>85</td>\n",
       "      <td>No Contract</td>\n",
       "    </tr>\n",
       "    <tr>\n",
       "      <th>3</th>\n",
       "      <td>86</td>\n",
       "      <td>No Contract</td>\n",
       "    </tr>\n",
       "    <tr>\n",
       "      <th>4</th>\n",
       "      <td>90</td>\n",
       "      <td>FSMA</td>\n",
       "    </tr>\n",
       "  </tbody>\n",
       "</table>\n",
       "</div>"
      ],
      "text/plain": [
       "   CUSTOMER_SITE_ID Contract_Category\n",
       "0                24       No Contract\n",
       "1                36       No Contract\n",
       "2                85       No Contract\n",
       "3                86       No Contract\n",
       "4                90              FSMA"
      ]
     },
     "execution_count": 75,
     "metadata": {},
     "output_type": "execute_result"
    }
   ],
   "source": [
    "# aggregate CONTRACT_CATEGORY\n",
    "installbase6 = installbase.groupby('CUSTOMER_SITE_ID')['CONTRACT_CATEGORY'].apply(lambda x: x.mode()[0]).reset_index()\n",
    "installbase6 = installbase6.rename(columns = {\"CONTRACT_CATEGORY\": 'Contract_Category'})\n",
    "installbase6.head()"
   ]
  },
  {
   "cell_type": "code",
   "execution_count": 76,
   "metadata": {},
   "outputs": [
    {
     "data": {
      "text/html": [
       "<div>\n",
       "<style scoped>\n",
       "    .dataframe tbody tr th:only-of-type {\n",
       "        vertical-align: middle;\n",
       "    }\n",
       "\n",
       "    .dataframe tbody tr th {\n",
       "        vertical-align: top;\n",
       "    }\n",
       "\n",
       "    .dataframe thead th {\n",
       "        text-align: right;\n",
       "    }\n",
       "</style>\n",
       "<table border=\"1\" class=\"dataframe\">\n",
       "  <thead>\n",
       "    <tr style=\"text-align: right;\">\n",
       "      <th></th>\n",
       "      <th>CUSTOMER_SITE_ID</th>\n",
       "      <th>Num_of_Active_Install_Bases</th>\n",
       "      <th>Total_Contracts</th>\n",
       "      <th>Contract_length</th>\n",
       "      <th>Num_of_Install_Bases</th>\n",
       "      <th>Contract_Category</th>\n",
       "    </tr>\n",
       "  </thead>\n",
       "  <tbody>\n",
       "    <tr>\n",
       "      <th>0</th>\n",
       "      <td>24</td>\n",
       "      <td>5</td>\n",
       "      <td>0</td>\n",
       "      <td>0.00</td>\n",
       "      <td>5</td>\n",
       "      <td>No Contract</td>\n",
       "    </tr>\n",
       "    <tr>\n",
       "      <th>1</th>\n",
       "      <td>36</td>\n",
       "      <td>39</td>\n",
       "      <td>11</td>\n",
       "      <td>625.00</td>\n",
       "      <td>43</td>\n",
       "      <td>No Contract</td>\n",
       "    </tr>\n",
       "    <tr>\n",
       "      <th>2</th>\n",
       "      <td>85</td>\n",
       "      <td>0</td>\n",
       "      <td>0</td>\n",
       "      <td>0.00</td>\n",
       "      <td>1</td>\n",
       "      <td>No Contract</td>\n",
       "    </tr>\n",
       "    <tr>\n",
       "      <th>3</th>\n",
       "      <td>86</td>\n",
       "      <td>6</td>\n",
       "      <td>4</td>\n",
       "      <td>1,095.00</td>\n",
       "      <td>10</td>\n",
       "      <td>No Contract</td>\n",
       "    </tr>\n",
       "    <tr>\n",
       "      <th>4</th>\n",
       "      <td>90</td>\n",
       "      <td>6</td>\n",
       "      <td>6</td>\n",
       "      <td>1,003.00</td>\n",
       "      <td>6</td>\n",
       "      <td>FSMA</td>\n",
       "    </tr>\n",
       "  </tbody>\n",
       "</table>\n",
       "</div>"
      ],
      "text/plain": [
       "   CUSTOMER_SITE_ID  Num_of_Active_Install_Bases  Total_Contracts  \\\n",
       "0                24                            5                0   \n",
       "1                36                           39               11   \n",
       "2                85                            0                0   \n",
       "3                86                            6                4   \n",
       "4                90                            6                6   \n",
       "\n",
       "   Contract_length  Num_of_Install_Bases Contract_Category  \n",
       "0             0.00                     5       No Contract  \n",
       "1           625.00                    43       No Contract  \n",
       "2             0.00                     1       No Contract  \n",
       "3         1,095.00                    10       No Contract  \n",
       "4         1,003.00                     6              FSMA  "
      ]
     },
     "execution_count": 76,
     "metadata": {},
     "output_type": "execute_result"
    }
   ],
   "source": [
    "# merge the above tables\n",
    "installbase = pd.merge(installbase5, installbase4, how = 'inner').merge(installbase6, how = 'inner')\n",
    "installbase.head()"
   ]
  },
  {
   "cell_type": "code",
   "execution_count": 77,
   "metadata": {},
   "outputs": [
    {
     "name": "stdout",
     "output_type": "stream",
     "text": [
      "<class 'pandas.core.frame.DataFrame'>\n",
      "Int64Index: 20059 entries, 0 to 20058\n",
      "Data columns (total 6 columns):\n",
      " #   Column                       Non-Null Count  Dtype  \n",
      "---  ------                       --------------  -----  \n",
      " 0   CUSTOMER_SITE_ID             20059 non-null  int64  \n",
      " 1   Num_of_Active_Install_Bases  20059 non-null  int64  \n",
      " 2   Total_Contracts              20059 non-null  int64  \n",
      " 3   Contract_length              20059 non-null  float64\n",
      " 4   Num_of_Install_Bases         20059 non-null  int64  \n",
      " 5   Contract_Category            20059 non-null  object \n",
      "dtypes: float64(1), int64(4), object(1)\n",
      "memory usage: 1.1+ MB\n"
     ]
    }
   ],
   "source": [
    "installbase.info()"
   ]
  },
  {
   "cell_type": "code",
   "execution_count": 78,
   "metadata": {},
   "outputs": [],
   "source": [
    "# calculate a column called Number_of_Inactive_Sites\n",
    "installbase['Num_of_Inactive_Install_Bases'] = installbase['Num_of_Install_Bases'] - installbase['Num_of_Active_Install_Bases']"
   ]
  },
  {
   "cell_type": "code",
   "execution_count": 79,
   "metadata": {},
   "outputs": [
    {
     "data": {
      "text/html": [
       "<div>\n",
       "<style scoped>\n",
       "    .dataframe tbody tr th:only-of-type {\n",
       "        vertical-align: middle;\n",
       "    }\n",
       "\n",
       "    .dataframe tbody tr th {\n",
       "        vertical-align: top;\n",
       "    }\n",
       "\n",
       "    .dataframe thead th {\n",
       "        text-align: right;\n",
       "    }\n",
       "</style>\n",
       "<table border=\"1\" class=\"dataframe\">\n",
       "  <thead>\n",
       "    <tr style=\"text-align: right;\">\n",
       "      <th></th>\n",
       "      <th>CUSTOMER_SITE_ID</th>\n",
       "      <th>Num_of_Active_Install_Bases</th>\n",
       "      <th>Total_Contracts</th>\n",
       "      <th>Contract_length</th>\n",
       "      <th>Num_of_Install_Bases</th>\n",
       "      <th>Contract_Category</th>\n",
       "      <th>Num_of_Inactive_Install_Bases</th>\n",
       "    </tr>\n",
       "  </thead>\n",
       "  <tbody>\n",
       "    <tr>\n",
       "      <th>0</th>\n",
       "      <td>24</td>\n",
       "      <td>5</td>\n",
       "      <td>0</td>\n",
       "      <td>0.00</td>\n",
       "      <td>5</td>\n",
       "      <td>No Contract</td>\n",
       "      <td>0</td>\n",
       "    </tr>\n",
       "    <tr>\n",
       "      <th>1</th>\n",
       "      <td>36</td>\n",
       "      <td>39</td>\n",
       "      <td>11</td>\n",
       "      <td>625.00</td>\n",
       "      <td>43</td>\n",
       "      <td>No Contract</td>\n",
       "      <td>4</td>\n",
       "    </tr>\n",
       "    <tr>\n",
       "      <th>2</th>\n",
       "      <td>85</td>\n",
       "      <td>0</td>\n",
       "      <td>0</td>\n",
       "      <td>0.00</td>\n",
       "      <td>1</td>\n",
       "      <td>No Contract</td>\n",
       "      <td>1</td>\n",
       "    </tr>\n",
       "    <tr>\n",
       "      <th>3</th>\n",
       "      <td>86</td>\n",
       "      <td>6</td>\n",
       "      <td>4</td>\n",
       "      <td>1,095.00</td>\n",
       "      <td>10</td>\n",
       "      <td>No Contract</td>\n",
       "      <td>4</td>\n",
       "    </tr>\n",
       "    <tr>\n",
       "      <th>4</th>\n",
       "      <td>90</td>\n",
       "      <td>6</td>\n",
       "      <td>6</td>\n",
       "      <td>1,003.00</td>\n",
       "      <td>6</td>\n",
       "      <td>FSMA</td>\n",
       "      <td>0</td>\n",
       "    </tr>\n",
       "  </tbody>\n",
       "</table>\n",
       "</div>"
      ],
      "text/plain": [
       "   CUSTOMER_SITE_ID  Num_of_Active_Install_Bases  Total_Contracts  \\\n",
       "0                24                            5                0   \n",
       "1                36                           39               11   \n",
       "2                85                            0                0   \n",
       "3                86                            6                4   \n",
       "4                90                            6                6   \n",
       "\n",
       "   Contract_length  Num_of_Install_Bases Contract_Category  \\\n",
       "0             0.00                     5       No Contract   \n",
       "1           625.00                    43       No Contract   \n",
       "2             0.00                     1       No Contract   \n",
       "3         1,095.00                    10       No Contract   \n",
       "4         1,003.00                     6              FSMA   \n",
       "\n",
       "   Num_of_Inactive_Install_Bases  \n",
       "0                              0  \n",
       "1                              4  \n",
       "2                              1  \n",
       "3                              4  \n",
       "4                              0  "
      ]
     },
     "execution_count": 79,
     "metadata": {},
     "output_type": "execute_result"
    }
   ],
   "source": [
    "installbase.head()"
   ]
  },
  {
   "cell_type": "code",
   "execution_count": 80,
   "metadata": {},
   "outputs": [
    {
     "data": {
      "text/plain": [
       "1.0"
      ]
     },
     "execution_count": 80,
     "metadata": {},
     "output_type": "execute_result"
    }
   ],
   "source": [
    "# check all customer sites are unique\n",
    "len(installbase['CUSTOMER_SITE_ID'])/len(installbase['CUSTOMER_SITE_ID'].unique())"
   ]
  },
  {
   "cell_type": "markdown",
   "metadata": {},
   "source": [
    "# Exporting result tables"
   ]
  },
  {
   "cell_type": "code",
   "execution_count": 81,
   "metadata": {},
   "outputs": [],
   "source": [
    "service.to_csv(\"service_aggregated.csv\")\n",
    "interactions.to_csv(\"interactions_aggregated.csv\")\n",
    "cases.to_csv(\"cases_aggregated.csv\")\n",
    "installbase.to_csv(\"installbase_aggregated.csv\")"
   ]
  }
 ],
 "metadata": {
  "kernelspec": {
   "display_name": "Python 3",
   "language": "python",
   "name": "python3"
  },
  "language_info": {
   "codemirror_mode": {
    "name": "ipython",
    "version": 3
   },
   "file_extension": ".py",
   "mimetype": "text/x-python",
   "name": "python",
   "nbconvert_exporter": "python",
   "pygments_lexer": "ipython3",
   "version": "3.7.6"
  }
 },
 "nbformat": 4,
 "nbformat_minor": 4
}
